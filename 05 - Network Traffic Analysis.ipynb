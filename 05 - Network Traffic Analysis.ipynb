{
 "cells": [
  {
   "cell_type": "markdown",
   "metadata": {},
   "source": [
    "*Created by Petteri Nevavuori <<petteri.nevavuori@gmail.com>>*\n",
    "\n",
    "---\n",
    "\n",
    "**CHIO & FREEMAN: MACHINE LEARNING & SECURITY (2018)** <br>\n",
    "*<small>Otsikot kirjan mukaan, muutoin suomeksi.</small>*"
   ]
  },
  {
   "cell_type": "markdown",
   "metadata": {
    "toc": true
   },
   "source": [
    "<h1>Sisällysluettelo<span class=\"tocSkip\"></span></h1>\n",
    "<div class=\"toc\"><ul class=\"toc-item\"><li><span><a href=\"#Network-Traffic-Analysis\" data-toc-modified-id=\"Network-Traffic-Analysis-1\">Network Traffic Analysis</a></span><ul class=\"toc-item\"><li><span><a href=\"#Theory-of-Network-Defense\" data-toc-modified-id=\"Theory-of-Network-Defense-1.1\">Theory of Network Defense</a></span><ul class=\"toc-item\"><li><span><a href=\"#Access-Control-and-Authentication\" data-toc-modified-id=\"Access-Control-and-Authentication-1.1.1\">Access Control and Authentication</a></span></li><li><span><a href=\"#Intrusion-Detection\" data-toc-modified-id=\"Intrusion-Detection-1.1.2\">Intrusion Detection</a></span></li><li><span><a href=\"#Detecting-In-Network-Attackers\" data-toc-modified-id=\"Detecting-In-Network-Attackers-1.1.3\">Detecting In-Network Attackers</a></span></li><li><span><a href=\"#Data-Centric-Security\" data-toc-modified-id=\"Data-Centric-Security-1.1.4\">Data-Centric Security</a></span></li><li><span><a href=\"#Honeypots\" data-toc-modified-id=\"Honeypots-1.1.5\">Honeypots</a></span></li></ul></li><li><span><a href=\"#Machine-Learning-and-Network-Security\" data-toc-modified-id=\"Machine-Learning-and-Network-Security-1.2\">Machine Learning and Network Security</a></span><ul class=\"toc-item\"><li><span><a href=\"#From-Captures-to-Features\" data-toc-modified-id=\"From-Captures-to-Features-1.2.1\">From Captures to Features</a></span></li><li><span><a href=\"#Threats-in-the-Network\" data-toc-modified-id=\"Threats-in-the-Network-1.2.2\">Threats in the Network</a></span><ul class=\"toc-item\"><li><span><a href=\"#Passive-attacks\" data-toc-modified-id=\"Passive-attacks-1.2.2.1\">Passive attacks</a></span></li><li><span><a href=\"#Active-attacks\" data-toc-modified-id=\"Active-attacks-1.2.2.2\">Active attacks</a></span></li></ul></li><li><span><a href=\"#Botnets-and-You\" data-toc-modified-id=\"Botnets-and-You-1.2.3\">Botnets and You</a></span><ul class=\"toc-item\"><li><span><a href=\"#The-importance-of-understanding-botnets\" data-toc-modified-id=\"The-importance-of-understanding-botnets-1.2.3.1\">The importance of understanding botnets</a></span></li><li><span><a href=\"#How-do-botnets-work?\" data-toc-modified-id=\"How-do-botnets-work?-1.2.3.2\">How do botnets work?</a></span></li></ul></li></ul></li><li><span><a href=\"#Building-a-Predictive-Model-to-Classify-Network-Attacks\" data-toc-modified-id=\"Building-a-Predictive-Model-to-Classify-Network-Attacks-1.3\">Building a Predictive Model to Classify Network Attacks</a></span><ul class=\"toc-item\"><li><span><a href=\"#Exploring-the-Data\" data-toc-modified-id=\"Exploring-the-Data-1.3.1\">Exploring the Data</a></span></li></ul></li></ul></li></ul></div>"
   ]
  },
  {
   "cell_type": "markdown",
   "metadata": {},
   "source": [
    "# Network Traffic Analysis\n",
    "\n",
    "Yleisin tapa, jolla hyökkääjä saa jalansijan kohdejärjestelmästä, on verkkoyhteyksiä hyödyntämällä. Verkkoturvallisuus on laaja ylätason käsite niille toimille, joilla pyritään estämään ja ehkäisemää verkon yli tapahtuvaa haitallista vaikuttamista. Tässä luvussa keskitytään verkkoliikenteen luokitteluun alkamalla oman verkon puolustuksen mallista ja jatkaen siitä koneoppimis- ja tekoälytutkimuksesta hyötyneisiin verkkoturvallisuuden sovelluksiin. Luvussa käydään läpi esimerkki korrelaatioiden löytämisestä ja piirteiden tunnistuksesta verkkoliikenteestä.\n",
    "\n",
    "Luku rajoittuu pakettitason liikenteen tarkasteluun, mikä sisältää tietoa verkkoliikenteen lähteistä, kohteista, protokollista ja ainakin jotain sisällöstä. [OSI-mallista](https://fi.wikipedia.org/wiki/OSI-malli) käsittelyn kohteina ovat tasot 3-5, eli verkko-, kuljetus- ja istuntokerrokset. Kuten jo aiemmista luvuista on tullut ilmi, haitallinen verkkoliikenne on osa joko varsinaisen hyökkäyksen alkua (tunnustelu) tai sitten loppusiivousta (datan välitys)."
   ]
  },
  {
   "cell_type": "markdown",
   "metadata": {},
   "source": [
    "## Theory of Network Defense\n",
    "\n",
    "Verkkojen puolustaminen on monimutkaista laajakirjoisten hyökkäystapojen ja -alustojen vuoksi. Yksittäisiä hyökkäyksiä joudutaan torjumaan useilla verkon osa-alueista eikä verkon osien luotettavuus ole näissä tilanteissa taattu."
   ]
  },
  {
   "cell_type": "markdown",
   "metadata": {},
   "source": [
    "### Access Control and Authentication\n",
    "\n",
    "Verkon kanssa tapahtuva vuorovaikutus alkaa aina pääsyn hallinnalla, joka on auktorisoinnin ja käyttäjien kontrolloinnin keino. Palomuurit ovat esimerkki tällaisesta hallinnasta, jolla pyritään rajaamaan ensimmäinen haitallisten vuorovaikutusten massa verkon ulkopuolelle eväämällä pääsy sinne. Pääsyn hallinnan käytänteillä (*policy*) saadaan verkkoon pääsevät toimijat rajoitettua pääsyn puolesta edelleen vain tiettyihin, sallittuihin osiin (esim. julkinen web-palvelu). Aktiivisella autentikoinnilla (*active authentication*) rajoitetaan edelleen pääsyä vaatimalla käyttäjiltä tunnistautumista esimerkiki käyttäjätunnuksin tai SSH-avaimin. Monivaiheiselle tunnistautumisella (*multi-factor authentication, MFA*) voidaan myös nostaa joidenkin perustasoisten hyökkäysten etenemisen kynnystä.\n"
   ]
  },
  {
   "cell_type": "markdown",
   "metadata": {},
   "source": [
    "### Intrusion Detection\n",
    "\n",
    "Tunkeutumisen havaitsemista käsiteltiin aiemmin jo luvussa kolme. Tunkeutumisen havaintojärjestelmät käsittävät usein tunnistusta laajemman kokonaisuuden murtojen tunnistamiseksi. Näiden ohella tunkeutumisen estojärjestelmiä voidaan käyttää aktiiviseen havaitun haitallisen toiminnan estämiseen. "
   ]
  },
  {
   "cell_type": "markdown",
   "metadata": {},
   "source": [
    "### Detecting In-Network Attackers\n",
    "\n",
    "Mikäli voidaan olettaa, että hyökkääjällä on mahdollisuus ohittaa pääsyn hallinta ja päästä käsiksi verkkoon toimien sen sisällä, on keskityttävä haitallisen toiminnan havaitsemiseen verkon sisällä. Hyvin suunnitellut järjestelmät lähtevät siitä, että näin tulee tapahtumaan tai on jo tapahtunut. Tämä edellyttää järjestelmän valvojilta verkon osien instrumentointia ja aktiivista valvontaa poikkeavien muutosten varalta. \n",
    "\n",
    "Pelkän verkon rajan vahvistaminen ei riitä, sillä verkkoon päästään sisään useimmiten, tavalla tai toisella. Tästä syystä verkko ja siihen liitettävät järjestelmät on suunniteltava niin, että murron tapahtuessa kokonaisuus säilyisi kuitenkin mahdollisimman pitkään mahdollisimman eheänä (vrt. valtamerilaivojen pato-ovet). Erityisen tärkeää on erotella liiketoiminnalle merkittävät korkean riskin osat julkisisesti saavutettavista ja sallia vain tarkasti määritellyt ja valvotut API-kutsut näiden välillä. Tämä mikrosegmentointi vaatii jatkuvaa huomiota, sillä verkon rakenteen muuttuessa on segmentointiakin päivitettävä."
   ]
  },
  {
   "cell_type": "markdown",
   "metadata": {},
   "source": [
    "### Data-Centric Security\n",
    "\n",
    "Järjestelmän tilan vaarantuessa datan varkauden todennäköisyys kasvaa merkittävästi. Tällöin datakeskeisyys on järjestelmän kyberturvan suunnittelussa tärkeää, jolloin jopa tietokannankin tullessa murretuksi ei datasta itsestään ole juuri hyötyä hyökkääjälle. Dataa, kuten käyttäjätunnuksia, onkin tavattu suojata hash-algoritmeilla, mutta kaikkeen dataan tämä ei sovi, ei etenkään aktiivisesti käytössä olevaan. Ratkaisuja on kuitenkin jo esitetty, kuten homomorfinen salaus, jossa analyysiä voidaan suorittaa suoraan salatulla datalla ilman tarvetta salauksen purkuun."
   ]
  },
  {
   "cell_type": "markdown",
   "metadata": {},
   "source": [
    "### Honeypots\n",
    "\n",
    "Hunajapurkit ovat käytännössä valemaaleja, houkuttimia, joiden tarkoituksena on vaikuttaa ulkopuoliselle toimijalla mielenkiintoiselta kohteelta. Murron tapahduttua hyökkääjästä pyritään keräämään mahdollisimman paljon tietoa. Hunajapurkki voi muodostua yhdestä palvelimesta aina kokonaiseen verkkoon saakka. Hyvin rakennettuna ja oikeita toimintoja matkivina hunajapurkit voivat hämätä hyökkääjää hyvinkin pitkälle. Niitä voidaan käyttää myös datan keruuseen hyökkääjien havaitsemiseksi, sillä kaikki hunajapurkin data on lähtökohtaisesti vahingollista vaikuttamista."
   ]
  },
  {
   "cell_type": "markdown",
   "metadata": {},
   "source": [
    "## Machine Learning and Network Security\n",
    "\n",
    "Ilmiötä selittävien piirteiden louhinta datasta (*pattern mining*) on koneoppimisen vahvuuksia. Vaikka yksittäistä paketeista ei juuri piirteitä ole louhittavissa, verkon liikenne muodostuu monitahoisista ja -kerroksisista viestinnän ketjuista. Tällaista liikenteen raakadataa kutsukaan pakettisieppaukseksi (*packet capture*). Sieppauksista voidaan eristää yksittäiset monista paketeista muodostuvat istunnot, joiden rakenne ja sisältö määrittyy vahvasti eri protokollien mukaisesti. Pelkästään tästä datasta voidaan jo pyrkiä tunnistamaan mm. bottiverkoilla (*botnet*) toteutettuja palvelunestohyökkäyksiä (*denial of service, DoS*)."
   ]
  },
  {
   "cell_type": "markdown",
   "metadata": {},
   "source": [
    "### From Captures to Features\n",
    "\n",
    "Verkkoliikenteen keruun pääkeino on olemassaolevan liikenteen sieppaaminen. Pakettien analysointityökaluilla liikenteestä saadaan muodostettua mm. lokitiedostoja, joita käyttämällä on mahdollista analysoida ja mallintaa verkon toimintaa halutulla laajuudella haittaliikenteen lisäksi myös esimerkiksi sen suorituskyvyn mittaamiseksi. Oikein verkon eri osiin sijoiteltuina pakettien analysointityökaluja voidaan käyttää yksityiskohtaisten datajoukkojen tuottamiseen.\n",
    "\n",
    "Liikenteen koostaminen laajoja keskustelusekvenssejä sisältävistä istunnoista yksittäisiksi sekvenssejä kuvaaviksi piirteiksi auttaa laajojen datamäärien käsittelyssä. Istuntokohtaisesti näitä tietoja ovat:\n",
    "\n",
    " - Ajallinen kesto\n",
    " - Pakettien kokonaismäärä\n",
    " - Käytetty protokolla\n",
    " - Istunnossa siirretyt tavut suuntaan ja toiseen\n",
    " - Istunnon kohteen palvelu, jota tavoiteltiin\n",
    " \n",
    "Tärkeintä on joka tapauksessa määritellä kerättävät piirteet sen mukaisesti, mitä liikenteestä tahdotaan selvittää. Tämä on riippuvaista kohdejärjestelmästä."
   ]
  },
  {
   "cell_type": "markdown",
   "metadata": {},
   "source": [
    "### Threats in the Network\n",
    "\n",
    "Tässä vaiheessa kirjassa käydään läpi verkkouhkia, luokitellen ne karkeasti passiivisiin ja aktiivisiin uhkiin. Kuten luvun alussakin mainittiin, keskitytään uhkakeskustelussa OSI-mallin kerroksiin 3-5, eikä täten esimerkiksi fyysisiä uhkatekijöitä käsitellä. "
   ]
  },
  {
   "cell_type": "markdown",
   "metadata": {},
   "source": [
    "#### Passive attacks\n",
    "\n",
    "Passiiviset hyökkäykset nimensä mukaisesti eivät kommunikoi verkon solmujen (*node*) kanssa eivät pyri esimerkiksi muokkamaan niissä olevaa dataa. Passiivisia hyökkäyksiä käytetäänkin usein tiedonkeruuseen, jolla pyritään saamaan tärkeää lisätietoa varsinaisten aktiivisempien hyökkäysten toteuttamiseen. Porttien skannaus (*port scanning*) on esimerkki passiivisesta hyökkäyksestä, jossa avoimia portteja selvittämällä pyritään pääsemään selvyyteen kohdejärjestelmästä ja siinä mahdollisesti olevista paremmin hyväksikäytettävistä palveluista. Esimerkiksi avoimena portti 27017 kertoo, että kohteessa on käynnissä MongoDB-tietokantainstanssi."
   ]
  },
  {
   "cell_type": "markdown",
   "metadata": {},
   "source": [
    "#### Active attacks\n",
    "\n",
    "Aktiiviset murrot jaotellaan kirjassa seuraavasti:\n",
    "\n",
    " - **Murtautumiset** (*breaches*): Verkkomurrot ovat hyökkäyksistä tuotteliaimpia, ja murrolla voidaan viitata sekä aukon muodostamiseen verkon rajalla tai olemassaolevan aukon hyödyntämiseen. Aukko on usein kohdejärjestelmän verkon ja ulkoisen maailman rajapinnassa olevissa osissa: mm. reitittimissä, palomuureissa ja kytkimissä. Aukko muodostetaan keräämällä kohteesta ensin riittävästi tietoa, jotta kohdejärjestelmän osien heikkouksia hyväksikäyttämällä saavutetaan korotetut vaikkapa käyttäjäoikeudet (*privilege elevation*) ja kohdejärjestelmässä päästään täten suorittamaan haluttuja toimenpiteitä. Murrot voivat olla sekä ulkoa että sisältä tehtyjä. Sisältä tehtynä kyseessä on kokonaisuutena paljon laajempi ja monimutkaisempi havaittava asia, jota on lähestyttävä ennemmin koko ympäristön turvallisuussuunnitelun näkökulmasta.\n",
    " \n",
    " - **Väärentämiset** (*spoofing*): Väärennetyn datan lähetystä, *spoofausta*, käytetään haitallisen jalansijan saavuttamisen mekanismina luotettujen viestintäyhteyksien sisällä. Näillä menetelmillä voidaan esimerkiksi välimuisti myrkyttää siten, että palvelu saadaan keskustelemaan alun perin suunnitellusta poikkeavaan, vihamieliseen kohteeseen. Esimerkiksi DNS-väärennöksessä tavoitteena on muokata kohdejärjestelmän välimuistiin tallennetun verkko-osoitteiden tietoja ylläpitävän DNS-taulun tietoja siten, että tuttu verkko-osoite saadaan osoittamaan aivan johonkin muuhun sijaintiin.\n",
    " \n",
    " - **Pivottaus** (*pivoting*): Suomenkielisen sanan puutteessa *pivottauksella* tarkoitetaan sitä, kun sisään päästyään hyökkääjä pyrkii liikkumaan järjestelmästä tai palvelimesta toiseen järjestelmän verkon sisäpuolella. Tällöin pyrkimyksenä on hyväksikäyttää heikommin suunniteltuja palvelujen välisiä suojia ja edetä esimerkiksi julkisen web-palvelun palvelimesta aina kriittistä dataa sisältäviin palvelimiin ja järjestelmän osiin.\n",
    " \n",
    " - **Palvelunestohyökkäykset**: Näiden hyökkäysten tavoitteena on kohdejärjestelmän yleinen lamauttaminen ja käytön estäminen tai ainakin hankaloittaminen. Yksi tapa palvelunestohyökkäyksen toteuttamiseen on hyväksikäyttää TCP-kättelymekanismia, jossa jokaisen uuden yhteydenoton yhteydessä palvelimelle lähetetään SYN-paketti. Palvelin lähettää tähän vastauksensa, minkä jälkeen se jää kuuntelemaan uutta vastausta yhteyttä ottaneesta lähteestä. Tätä hyväksikäytetään siten, että muodostetaan jatkuvalla syötöllä uusia yhteydenottopyyntöjä ilman, että palvelimen odottamaa vastausta kuitenkaan lähetetään. Näin kohdejärjestelmän vapaat resurssit vähenevät vähenemistään sen ylläpitäessä puoliavoimia yhteyksia enenevissä määrin ja lopulta se vähintään hidastuu, ellei jopa kokonaan kaadu. Tässä yhteydessä käytetään usein bottiverkkoja, joihin keskitytään hetkeksi seuraavassa osiossa.\n",
    " "
   ]
  },
  {
   "cell_type": "markdown",
   "metadata": {},
   "source": [
    "### Botnets and You\n",
    "\n",
    "Puolet verkon liikenteestä on bottien tuottamaa, mutta kaikki niiden toiminta ei missään tapauksessa ole vahingollista (esim. hakukoneen indeksointibotit). Joka tapauksessa haitallisen bottiverkkojen luoman liikenteen osuus maailmanlaajuisesta liikenteestä on useita, ellei jopa joitain kymmeniä prosentteja. Mikäli bottiverkot sijaitsevat maantieteellisesti keskitetysti on niiltä suojautuminen suoraviivaista IP:n suodatusta. Toisaalta, suuret bottiverkot osaavat laajeta valtaamalla suojaamattomia kotiverkoissakin sijaitsevia koneita. Tällöin haitallisen bottiverkkoliikenteen suodatus osoittautuukin jo kertaluokkaa haastavammaksi tehtäväksi."
   ]
  },
  {
   "cell_type": "markdown",
   "metadata": {},
   "source": [
    "#### The importance of understanding botnets\n",
    "\n",
    "Bottiverkkojen luoma riski yritysverkoille ja organisaatioille ylipäätään on todellinen. Verkon osana toimivat mutta bottiverkon näkökulmasta uinuvat zombi-koneet ovat verkon aktivoituessa merkittävä uhka. Niillä voidaan suorittaa ulkopuolelta tulevien hyökkäysten lisäksi myös sisältä ulos suuntautuvia tehtäviä. Koneoppimisen ja tilastollisten menetelmien avulla on mahdollista kuitenkin edes jossain määrin tunnistaa mahdollista bottiverkkoliikennettä. Tällöin esimerkiksi bottiverkkojen toimintaa mallintamalla voidaan pyrkiä oppimaan sellaisia piirteitä, joita hyödyntämällä olisi mahdollista erotella haitallinen liikenne ympäristössä muutoin normaalista liikenteestä. Esimerkiksi klusterointia on hyödynnetty verkkoliikenteeseen uinuvista zombi-koneista niitä hallitseviin järjestelmiin tapahtuvan liikenteen tunnistamiseksi."
   ]
  },
  {
   "cell_type": "markdown",
   "metadata": {},
   "source": [
    "#### How do botnets work?\n",
    "\n",
    "Bottiverkot ovat nimensä mukaisesti läpikotaisin hajautettuja järjestelmiä. Ne on suunniteltu hyvin kestäviksi monenkirjavia sammutus- ja tuhoamisyrityksiä vastaan. Kun jokin kone pyritään liittämään osaksi laajempaa verkkoa, ensimmäisiä siihen tehtäviä toimenpiteitä on komentojärjestelmältä käskyjä odottavan palvelun asentaminen ja käynnistäminen. Bottiverkoilla on neljä pääpiirteistä arkkitehtuuria:\n",
    "\n",
    " - **Keskitetty tähtimalli**: Yhden komentojärjestelmän ja siihen kytkettyjen koneiden malli on perinteisimpiä bottiverkkojen malleja. Malli on kuitenkin hauras, sillä komentojärjestelmän kaatuessa koko verkko on käyttökelvoton. Koska uinuvilla koneilla on oltava kyky \"soittaa kotiin\", on niiden oltava jotenkin kykeneviä muodostamaan kyselyjä oikeisiin osoitteisiin. Komentojärjestelmän sijainnin suojelemiseksi IP-osoitteiden sijasta verkon zombi-koneisiin on kehitetty domainien generointialgoritmeja, joilla pyrittiin kiertämään helposti estettävän yhden kiinteän komentojärjestelmään osoittavan domainin käyttöä.\n",
    " - **Hajatetun johdon malli** (*multileader networks*): Tämän bottiverkon erona tähtimalliin on, että yhden komentojärjestelmän sijasta verkko koostuu useammasta toisiinsa kytketyistä komentojärjestelmistä, joista jokaisella on omat zombinsa hallittavanaan. Hajauttamalla verkkoa maantieteellisesti saadaan sekä suorituskyvyn että toiminnan suojaamisen näkökulmista etua.\n",
    " - **Hierarkinen malli**: Monen erillisen komentojärjestelmän sijasta tässä mallissa zombi-koneet voivat toimia sekä viestin välittäjinä että bottiverkon osina. Komentoketjun kasvaessa komentojen lähteenä toimiva järjestelmä on entistä paremmin suojassa löytymistä vastaan. Verkon topologian vuoksi reaaliaikaiset toiminnot voivat kuitenkin olla hankalia, sillä käskyjen propagoinnissa on keskitettyä mallia enemmän viivettä.\n",
    " - **Satunnaistettu hajautettu malli** (*randomized P2P networks*): Tämä malli poistaa keskitetyn komentojärjestelmän kokonaan ja hallinnointi voi tapahtua minkä tahansa verkkoon kytketyn koneen välityksellä. Tämä malli on erityisen tehokas vastustamaan tuhoamista, sillä yhden koneen poistaminen ei juuri muuhun verkkoon vaikuta. Mallin haitta on hierarkista mallia vielä korostuneempi viestin välittämisen viive. Samoin täyttä vakuutta siitä, että viesti menee edes perille, ei ole. Komentojen autentikoinnissa käytetäänkin kryptografisia menetelmiä, jotka ovat paremmin tunnettuina käytössä mm. kryptovaluutoissa."
   ]
  },
  {
   "cell_type": "markdown",
   "metadata": {},
   "source": [
    "## Building a Predictive Model to Classify Network Attacks\n",
    "\n",
    "Tämän luvun loppuosassa rakennetaan verkkohyökkäyksiin keskittyvä luokittelija. Datajoukkon käytetään NSL-KDD:tä, joka on alan tutkimusessa paljon käytetyn KDD Cup 1999 datajoukon korjattu versio. Datajoukko on ladattu kirja Github-projektinsivujen [vastaavasta sijainnista](https://github.com/jmnwong/NSL-KDD-Dataset/tree/9d544d0eb9b87d7e2f43ff65733bdb644631d12f). Koulutusdatajoukko sisältää 24 eri hyökkäystä, kun taas koko datajoukossa hyökkäystyyppejä on yhteensä 38. Hyökkäykset on luokiteltu neljään pääryhmään, jotka ovat palvelunesto (`dos`), luvaton yhteysyritys ulkoa (`r2l`), käyttöoikeuksien nostoyritys (`u2r`) ja yksinkertainen luotaus (`probe`). Datajoukko on sekä vanha että keinotekoinen ja sitä on myös kritisoitu paljon. Datajoukot ylipäätään muodostavatkin suurimmat mallinnukset ongelmat kyberturvallisuusongelmien mallinnuksessa, sillä niitä ei juuri löydy. Tästä syystä ja kritiikistä huolimatta nämä vanhat datajoukot ovat edelleen eniten käytetyimpien joukossa myös kärkitutkimuksessa."
   ]
  },
  {
   "cell_type": "markdown",
   "metadata": {},
   "source": [
    "### Exploring the Data\n",
    "\n",
    "Aloitetaan ensin datan lataamisella ja tutkinnalla. Ensin alustetaan datasettien polut ja sarakkeet. Datan sarakkeiden nimet on kopioitu kirjasta."
   ]
  },
  {
   "cell_type": "code",
   "execution_count": 25,
   "metadata": {},
   "outputs": [],
   "source": [
    "import os\n",
    "\n",
    "NSL_KDD_DIR = os.path.join(os.getcwd(),'datasets','NSL-KDD-Dataset')\n",
    "NSL_KDD_HEADERS = [\n",
    "    'duration','protocol_type','service','flag','src_bytes','dst_bytes','land','wrong_fragment',\n",
    "    'urgent','hot','num_failed_logins','logged_in','num_compromised','root_shell','su_attempted','num_root',\n",
    "    'num_file_creations','num_shells','num_access_files','num_outbound_cmds','is_host_login','is_guest_login',\n",
    "    'count','srv_count','serror_rate','srv_serror_rate','rerror_rate','srv_rerror_rate','same_srv_rate',\n",
    "    'diff_srv_rate','srv_diff_host_rate','dst_host_count','dst_host_srv_count','dst_host_same_srv_rate',\n",
    "    'dst_host_diff_srv_rate','dst_host_same_src_port_rate','dst_host_srv_diff_host_rate','dst_host_serror_rate',\n",
    "    'dst_host_serror_rate','dst_host_rerror_rate','dst_host_srv_rerror_rate','attack_type','success_pred'\n",
    "]"
   ]
  },
  {
   "cell_type": "markdown",
   "metadata": {},
   "source": [
    "Ladataan seuraavaksi tiedot hyökkäystyyppien (`attack_type`) kategorioista."
   ]
  },
  {
   "cell_type": "code",
   "execution_count": 38,
   "metadata": {},
   "outputs": [
    {
     "data": {
      "text/plain": [
       "{'normal': 'benign',\n",
       " 'apache2': 'dos',\n",
       " 'back': 'dos',\n",
       " 'mailbomb': 'dos',\n",
       " 'processtable': 'dos',\n",
       " 'snmpgetattack': 'dos',\n",
       " 'teardrop': 'dos',\n",
       " 'smurf': 'dos',\n",
       " 'land': 'dos',\n",
       " 'neptune': 'dos',\n",
       " 'pod': 'dos',\n",
       " 'udpstorm': 'dos',\n",
       " 'ps': 'u2r',\n",
       " 'buffer_overflow': 'u2r',\n",
       " 'perl': 'u2r',\n",
       " 'rootkit': 'u2r',\n",
       " 'loadmodule': 'u2r',\n",
       " 'xterm': 'u2r',\n",
       " 'sqlattack': 'u2r',\n",
       " 'httptunnel': 'u2r',\n",
       " 'ftp_write': 'r2l',\n",
       " 'guess_passwd': 'r2l',\n",
       " 'snmpguess': 'r2l',\n",
       " 'imap': 'r2l',\n",
       " 'spy': 'r2l',\n",
       " 'warezclient': 'r2l',\n",
       " 'warezmaster': 'r2l',\n",
       " 'multihop': 'r2l',\n",
       " 'phf': 'r2l',\n",
       " 'named': 'r2l',\n",
       " 'sendmail': 'r2l',\n",
       " 'xlock': 'r2l',\n",
       " 'xsnoop': 'r2l',\n",
       " 'worm': 'probe',\n",
       " 'nmap': 'probe',\n",
       " 'ipsweep': 'probe',\n",
       " 'portsweep': 'probe',\n",
       " 'satan': 'probe',\n",
       " 'mscan': 'probe',\n",
       " 'saint': 'probe'}"
      ]
     },
     "execution_count": 38,
     "metadata": {},
     "output_type": "execute_result"
    }
   ],
   "source": [
    "from collections import defaultdict\n",
    "\n",
    "categories = defaultdict(list)\n",
    "categories['benign'].append('normal')\n",
    "\n",
    "with open(os.path.join(NSL_KDD_DIR,'training_attack_types.txt'),'r') as f:\n",
    "    for line in f.readlines():\n",
    "        attack, cat = line.strip().split(' ')\n",
    "        categories[cat].append(attack)\n",
    "\n",
    "        attack_mapping = dict((v,k) for k in categories for v in categories[k])\n",
    "attack_mapping"
   ]
  },
  {
   "cell_type": "markdown",
   "metadata": {},
   "source": [
    "Seuraavaksi ladataan itse datajoukot siten, että käyttöön otetaan kaikki sarakkeet viimeistä lukuunottamatta. Samoin datajoukkoon lisätään tieto sen hyökkäystyyppien laajemmista kategorioista."
   ]
  },
  {
   "cell_type": "code",
   "execution_count": 43,
   "metadata": {},
   "outputs": [],
   "source": [
    "import pandas as pd\n",
    "train = pd.read_csv(os.path.join(NSL_KDD_DIR,'KDDTrain+.txt'),names=NSL_KDD_HEADERS).iloc[:,:-1]\n",
    "test = pd.read_csv(os.path.join(NSL_KDD_DIR,'KDDTest+.txt'),names=NSL_KDD_HEADERS).iloc[:,:-1]\n",
    "\n",
    "train['attack_category'] = train['attack_type'].map(lambda x: attack_mapping[x])\n",
    "test['attack_category'] = test['attack_type'].map(lambda x: attack_mapping[x])"
   ]
  },
  {
   "cell_type": "markdown",
   "metadata": {},
   "source": [
    "Visualisoidaanpa hieman datajoukon sisältöä."
   ]
  },
  {
   "cell_type": "code",
   "execution_count": 55,
   "metadata": {},
   "outputs": [
    {
     "data": {
      "image/png": "[encoded data removed]",
      "text/plain": [
       "<Figure size 432x288 with 1 Axes>"
      ]
     },
     "metadata": {
      "needs_background": "light"
     },
     "output_type": "display_data"
    }
   ],
   "source": [
    "import matplotlib.pyplot as plt\n",
    "_=train['attack_category'].value_counts().plot(kind='barh',title='Training data attack category counts',logx=True)"
   ]
  },
  {
   "cell_type": "code",
   "execution_count": 56,
   "metadata": {},
   "outputs": [
    {
     "data": {
      "image/png": "[encoded data removed]",
      "text/plain": [
       "<Figure size 432x288 with 1 Axes>"
      ]
     },
     "metadata": {
      "needs_background": "light"
     },
     "output_type": "display_data"
    }
   ],
   "source": [
    "_=train['attack_type'].value_counts().plot(kind='barh',title='Training data attack type counts',logx=True)"
   ]
  },
  {
   "cell_type": "code",
   "execution_count": null,
   "metadata": {},
   "outputs": [],
   "source": []
  }
 ],
 "metadata": {
  "kernelspec": {
   "display_name": "Python 3",
   "language": "python",
   "name": "python3"
  },
  "language_info": {
   "codemirror_mode": {
    "name": "ipython",
    "version": 3
   },
   "file_extension": ".py",
   "mimetype": "text/x-python",
   "name": "python",
   "nbconvert_exporter": "python",
   "pygments_lexer": "ipython3",
   "version": "3.7.0"
  },
  "toc": {
   "base_numbering": 1,
   "nav_menu": {},
   "number_sections": false,
   "sideBar": true,
   "skip_h1_title": false,
   "title_cell": "Sisällysluettelo",
   "title_sidebar": "Sisällysluettelo",
   "toc_cell": true,
   "toc_position": {
    "height": "1158px",
    "left": "278px",
    "top": "111.133px",
    "width": "338px"
   },
   "toc_section_display": true,
   "toc_window_display": true
  }
 },
 "nbformat": 4,
 "nbformat_minor": 2
}
