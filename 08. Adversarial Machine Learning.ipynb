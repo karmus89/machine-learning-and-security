{
 "cells": [
  {
   "cell_type": "markdown",
   "metadata": {},
   "source": [
    "*Created by Petteri Nevavuori <<petteri.nevavuori@gmail.com>>*\n",
    "\n",
    "---\n",
    "\n",
    "**CHIO & FREEMAN: MACHINE LEARNING & SECURITY (2018)** <br>\n",
    "*<small>Otsikot kirjan mukaan, muutoin suomeksi.</small>*"
   ]
  },
  {
   "cell_type": "markdown",
   "metadata": {
    "toc": true
   },
   "source": [
    "<h1>Sisällysluettelo<span class=\"tocSkip\"></span></h1>\n",
    "<div class=\"toc\"><ul class=\"toc-item\"><li><span><a href=\"#Adversarial-Machine-Learning\" data-toc-modified-id=\"Adversarial-Machine-Learning-1\">Adversarial Machine Learning</a></span><ul class=\"toc-item\"><li><span><a href=\"#Terminology\" data-toc-modified-id=\"Terminology-1.1\">Terminology</a></span></li></ul></li></ul></div>"
   ]
  },
  {
   "cell_type": "markdown",
   "metadata": {},
   "source": [
    "# Adversarial Machine Learning\n",
    "\n",
    "Koneoppimisen käyttöasteen noustessa sen luotettavuus on entistä tarkemman syynin alla, sillä vihamielinen vaikuttaminen ulottuu myös malleihin. Vihamielisen koneoppimisen (*adversarial machine learning*) tutkimus keskittyy mallinnustutkimukseen vihamielisissä ympäristöissä. Tällä alueella on onnistuttu toteuttamaan hyökkäyksiä mm. antivirusohjelmistoja ja roskapostisuotimia vastaan. Mallinnusmenetelmien haavoittuvuudet voivat johtua itse algoritmien rajoituksista, toteutuksesta tai näiden yhdistelmästä."
   ]
  },
  {
   "cell_type": "markdown",
   "metadata": {},
   "source": [
    "## Terminology\n",
    "\n",
    "Tutkimuksen alkuvaiheissa keskityttiin mm. laadullista analyysiä helpottavan taksonomian muodostamiseen. Vihamielisen koneoppimisen kolme ulottuvuutta ovat tämän taksonomian mukaisesti:\n",
    "\n",
    " - *Vaikutus*: Syihin perustuvat hyökkäykset (*causative attacks*) pyrkivät vaikuttamaan jo koulutuksessa käytettävään dataan. Heikoimmassa asemassa ovat näissä hyökkäyksissä jatkuvasti oppivat menetelmät (*online algorithms*), jotka pyrkivät oppimaan jatkuvasti uusista havainnoista ja tarkentamaan päätösrajapintojaan ajan myötä. Tutkivat hyökkäykset (*exploratory attacks*) keskittyvät vuorostaan vain koulutuksen jälkeisen mallin toiminnan ymmärtämiseen ja täten hyväksikäyttöön.\n",
    " - *Tarkkuus*: Kohdistetut hyökkäykset (*targeted attacks*) pyrkivät vaikuttamaan ohjatusti ja aiotusti muuttamaan mallin päätösrajapintaa tietyn tavoitteen mukaiseksi. Kohdistamattomat hyökkäykset (*indiscriminate attacks*) pyrkivät vain tekemään mallista ylipäätään epätarkemman ja epäluotettavan.\n",
    " - *Tietoturvan loukkaus*: Yhtenäisyyteen kohdistuvat hyökkäykset (*integrity attacks*) pyrkivät vaikuttamaan malliin siten, että ne vähentävät oikein luokiteltujen havaintojen osuutta (*true positive, recall*). Saatavuuten kohdistuvat hyökkäykset (*availability attacks*) vuorostaan keskittyvät rampauttamaan kohdejärjestelmän mallin tunnistuskykyä, sillä väärien tunnistustulosten (*false positive*) lisääntyessä manuaalinen työmäärä kasvaa ja mallin kokonaisluotettavuus laskee."
   ]
  },
  {
   "cell_type": "code",
   "execution_count": null,
   "metadata": {},
   "outputs": [],
   "source": []
  }
 ],
 "metadata": {
  "kernelspec": {
   "display_name": "Python 3",
   "language": "python",
   "name": "python3"
  },
  "language_info": {
   "codemirror_mode": {
    "name": "ipython",
    "version": 3
   },
   "file_extension": ".py",
   "mimetype": "text/x-python",
   "name": "python",
   "nbconvert_exporter": "python",
   "pygments_lexer": "ipython3",
   "version": "3.7.0"
  },
  "toc": {
   "base_numbering": 1,
   "nav_menu": {},
   "number_sections": false,
   "sideBar": true,
   "skip_h1_title": false,
   "title_cell": "Sisällysluettelo",
   "title_sidebar": "Sisällysluettelo",
   "toc_cell": true,
   "toc_position": {
    "height": "1158px",
    "left": "278px",
    "top": "111.133px",
    "width": "236px"
   },
   "toc_section_display": true,
   "toc_window_display": true
  }
 },
 "nbformat": 4,
 "nbformat_minor": 2
}
