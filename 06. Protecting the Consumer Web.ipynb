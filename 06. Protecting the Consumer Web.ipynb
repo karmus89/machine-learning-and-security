{
 "cells": [
  {
   "cell_type": "markdown",
   "metadata": {},
   "source": [
    "*Created by Petteri Nevavuori <<petteri.nevavuori@gmail.com>>*\n",
    "\n",
    "---\n",
    "\n",
    "**CHIO & FREEMAN: MACHINE LEARNING & SECURITY (2018)** <br>\n",
    "*<small>Otsikot kirjan mukaan, muutoin suomeksi.</small>*"
   ]
  },
  {
   "cell_type": "markdown",
   "metadata": {
    "toc": true
   },
   "source": [
    "<h1>Sisällysluettelo<span class=\"tocSkip\"></span></h1>\n",
    "<div class=\"toc\"><ul class=\"toc-item\"><li><span><a href=\"#Protecting-the-Consumer-Web\" data-toc-modified-id=\"Protecting-the-Consumer-Web-1\">Protecting the Consumer Web</a></span><ul class=\"toc-item\"><li><span><a href=\"#Monetizing-the-Consumer-Web\" data-toc-modified-id=\"Monetizing-the-Consumer-Web-1.1\">Monetizing the Consumer Web</a></span></li><li><span><a href=\"#Types-of-Abuse-and-the-Data-That-Can-Stop-Them\" data-toc-modified-id=\"Types-of-Abuse-and-the-Data-That-Can-Stop-Them-1.2\">Types of Abuse and the Data That Can Stop Them</a></span><ul class=\"toc-item\"><li><span><a href=\"#Authentication-and-Account-Takeover\" data-toc-modified-id=\"Authentication-and-Account-Takeover-1.2.1\">Authentication and Account Takeover</a></span><ul class=\"toc-item\"><li><span><a href=\"#Features-used-to-classify-login-attempts\" data-toc-modified-id=\"Features-used-to-classify-login-attempts-1.2.1.1\">Features used to classify login attempts</a></span></li><li><span><a href=\"#Building-your-classifier\" data-toc-modified-id=\"Building-your-classifier-1.2.1.2\">Building your classifier</a></span></li></ul></li><li><span><a href=\"#Account-Creation\" data-toc-modified-id=\"Account-Creation-1.2.2\">Account Creation</a></span><ul class=\"toc-item\"><li><span><a href=\"#Velocity-features\" data-toc-modified-id=\"Velocity-features-1.2.2.1\">Velocity features</a></span></li><li><span><a href=\"#Reputation-scores\" data-toc-modified-id=\"Reputation-scores-1.2.2.2\">Reputation scores</a></span></li></ul></li><li><span><a href=\"#Financial-Fraud\" data-toc-modified-id=\"Financial-Fraud-1.2.3\">Financial Fraud</a></span></li><li><span><a href=\"#Bot-Activity\" data-toc-modified-id=\"Bot-Activity-1.2.4\">Bot Activity</a></span><ul class=\"toc-item\"><li><span><a href=\"#Labeling-and-metrics\" data-toc-modified-id=\"Labeling-and-metrics-1.2.4.1\">Labeling and metrics</a></span></li></ul></li></ul></li><li><span><a href=\"#Supervised-Learning-for-Abuse-Problems\" data-toc-modified-id=\"Supervised-Learning-for-Abuse-Problems-1.3\">Supervised Learning for Abuse Problems</a></span><ul class=\"toc-item\"><li><span><a href=\"#Labeling-Data\" data-toc-modified-id=\"Labeling-Data-1.3.1\">Labeling Data</a></span></li><li><span><a href=\"#Cold-Start-Versus-Warm-Start\" data-toc-modified-id=\"Cold-Start-Versus-Warm-Start-1.3.2\">Cold Start Versus Warm Start</a></span></li><li><span><a href=\"#False-Positives-and-False-Negatives\" data-toc-modified-id=\"False-Positives-and-False-Negatives-1.3.3\">False Positives and False Negatives</a></span></li><li><span><a href=\"#Multiple-Responses\" data-toc-modified-id=\"Multiple-Responses-1.3.4\">Multiple Responses</a></span></li><li><span><a href=\"#Large-Attacks\" data-toc-modified-id=\"Large-Attacks-1.3.5\">Large Attacks</a></span></li></ul></li><li><span><a href=\"#Clustering-Abuse\" data-toc-modified-id=\"Clustering-Abuse-1.4\">Clustering Abuse</a></span><ul class=\"toc-item\"><li><span><a href=\"#Example:-Clustering-Spam-Domains\" data-toc-modified-id=\"Example:-Clustering-Spam-Domains-1.4.1\">Example: Clustering Spam Domains</a></span></li><li><span><a href=\"#Generating-Clusters\" data-toc-modified-id=\"Generating-Clusters-1.4.2\">Generating Clusters</a></span><ul class=\"toc-item\"><li><span><a href=\"#Grouping\" data-toc-modified-id=\"Grouping-1.4.2.1\">Grouping</a></span></li><li><span><a href=\"#Locality-sensitive-hashing\" data-toc-modified-id=\"Locality-sensitive-hashing-1.4.2.2\">Locality-sensitive hashing</a></span></li></ul></li></ul></li></ul></li></ul></div>"
   ]
  },
  {
   "cell_type": "markdown",
   "metadata": {},
   "source": [
    "# Protecting the Consumer Web\n",
    "\n",
    "Järjestelmiin kohdistuvien hyökkäysten sijasta tässä luvussa keskitytään kuluttajille suunnattujen olemassaolevien web-sovellusten ja niiden toiminnallisuuksien hyväksikäyttöön. Tällä tarkoitetaan julkisesti verkossa olevien palvelujen käyttöä, erotuksena organisaatioiden sisäverkoissa olevista palveluista ja toiminnallisuuksista. Julkisessa verkossa on monia hyökkäyspintoja, kuten maksu- ja kirjautumisrajapinnat ja sisällöntuotantovälineet. Sosiaalisen median palvelut avaavat myös lisäväyliä hyväksikäytölle.\n",
    "\n",
    "Julkisten web-palvelujen etuna on niiden skaala, sillä suuren käyttäjämäärän palvelut saavat helposti kerättyä tietoa normaalista liikenteestä haitallisen tunnistamiseksi. Tämä luvun keskiössä on API-kutsuilla käytettäviin sovelluksiin kohdistuvan haitallisen vaikuttamisen tunnistaminen."
   ]
  },
  {
   "cell_type": "markdown",
   "metadata": {},
   "source": [
    "## Monetizing the Consumer Web\n",
    "\n",
    "Monin paikoin verkon palveluissa pelkkä luvaton pääsy tiliin takaa jonkinasteisen rahallisen hyväksikäytön mahdollisuuden (pankit, markkinapaikat, palvelut). Tästä syystä tilien suojaus on ensiarvoisen tärkeää. Myös väärennetyin käyttäjätiedoin (*fraud*) toimiminen mahdollistaa hyötymisen ei-aiotulla tavalla, kuten varastetuin luottokorttitiedoin. Väärennöksiä voi esiintyä myös mm. linkkien klikkeihin perustuvien mainostulojen tienaamisessa. Roskapostin tapaiset huijaukset ovat mahdollisia kaikissa sellaisissa palveluissa, joissa voidaan viestiä."
   ]
  },
  {
   "cell_type": "markdown",
   "metadata": {},
   "source": [
    "## Types of Abuse and the Data That Can Stop Them\n",
    "\n",
    "Seuraavaksi tarkastellaan joitain tapoja, joilla hyökkääjä voi pyrkiä hyötymään verkon kuluttajapalveluista. Tarkastelun kohteena ovat tarkemmin tilien varastamista, luomista, rahallista petosta ja bottitoimintaa. Jokaisen hyökkäysvektorin kohdalla käydään läpi tunnistamiseen tarvitta data ja sen keruu."
   ]
  },
  {
   "cell_type": "markdown",
   "metadata": {},
   "source": [
    "### Authentication and Account Takeover\n",
    "\n",
    "Palvelun yksilöinti mm. sisällön ja käyttöoikeuksien mukaan edellyttää käyttäjien tunnistamista, joka nykyisin on pääsääntöisesti salasanapohjaista. Salasanojen helppokäyttöisyyden ohella niillä on tiettyjä ominaisongelmia. Ne valitaan usein helposti muistettaviksi. Samoja salasanoja käytetään myös palvelusta toiseen. Salasanoja voidaan myös helposti kalastella huijaamalla ihminen syöttämään se valesivulle sekä ne voidaan myös selvittää esimerkiksi muistiinpanoista.\n",
    "\n",
    "Biometristen ja muuttumattomien keinojen ohella monivaiheinen tunnistus on tapa dynaamisesti reagoida epäilyttävään kirjautumisyritykseen. Tällöin käyttäjää vaaditaan vahvistamaan kirjautuminen jonkin lisäpalvelun, -toiminnon tai -laitteen avulla, minkä käyttäjällä tiedetään olevan. Tämä voi olla vahvistussähköpostiin, tekstiviestiin tai johonkin laitteeseen toimitetun vahvistuskoodin pyytämistä. Nämäkään eivät ole täysin ongelmattomia tapoja, sillä jokainen näistä tavoista voidaan jollain tapaa joko uudelleenohjata tai pyydetyt vain oletetusti käyttäjän tietämät tiedot selvittää sosiaalisista medioista. Kuten arvata saattaa, myös tilastotieteeseen ja koneoppimiseen pohjaavia menetelmiä voidaan tässä kohdin hyödyntää."
   ]
  },
  {
   "cell_type": "markdown",
   "metadata": {},
   "source": [
    "#### Features used to classify login attempts\n",
    "\n",
    "Mikäli hyökkääjät tahdotaan pitää pois järjestelmistä luvattomien kirjautumisten estämisellä, on kirjautumiseen rakennettava toimintaa tutkivia ja pääsyä rajoittavia toimintoja. Kirjautumisen yhteydessä kerättävät, hyökkäystä ilmaisevat signaalit, voidaan ryhmitellä seuraavasti:\n",
    "\n",
    "- Salasanan arvaus raa'alla voimalla (*brute force*)\n",
    "    - Kirjautumisyritysten nopeus\n",
    "    - Kokeiltujen salasanojen suosittuus\n",
    "    - Kokeiltujen salasanojen samankaltaisuus\n",
    "- Tavanomaisesta käyttäytymisestä poikkeava toiminta\n",
    "    - IP-pohjainen kirjautumissijainnin tarkastelu\n",
    "    - Poikkeavan selaimen, käyttöjärjestelmän tai sovelluksen käyttö\n",
    "    - Epätavallinen kirjautumisaika\n",
    "    - Poikkeava kirjautumistiheys\n",
    "    - Poikkeava verkkopyyntöjen sekvenssi kirjautumisen yhteydessä\n",
    "- Laajan mittakaavan automatisoitu kirjautuminen\n",
    "    - IP-kohtaiset kirjautumisyritysmäärät\n",
    "    - Poikkeava määrä epäonnistuneita kirjautumisia palvelussa\n",
    "    - Pyyntöjen lähde epäilyttävä\n",
    "    - Koneellista toimijaa ilmaisevien selain-telemetriatietojen keruu\n",
    "\n",
    "Vaikka signaalit on helppo listata, niiden keruu ja ylläpitäminen ei ole helppo tehtävä. Poikkeavan toiminnan tunnistaminen esimerkiksi edellyttää mallia, joka on koulutettu tunnistamaan käyttäjän normaali toiminta. Joissain tapauksissa estäminen on kuitenkin helppoa, kuten raa'an voiman salasanojen arvaushyökkäysten kohdalla kirjausyritysten rajoittaminen. Salasanojen kohdalla ongelmaksi voi muodostua niiden salaus.\n",
    "\n",
    "Mikäli ajatusta jatketaan siitä, että hyökkääjällä on toimivat käyttäjätiedot, kuinka silloin tulisi sitten toimia? Käyttäjätilin vaarantumisen tunnistaminen on lähes taidetta. Vaikka jotkut käyttäjät ilmoittaisivatkin tilinsä vääriin käsiin joutumisesta, toiset käyttäjät vain jättävät palvelun käytön ilmaantuneen lisävaivan (*friction*) vuoksi. Kuinka siis luotettavasti tunnistaa väärinkäytökset? Edellä esiteltyjen signaalien käyttö on hyvä lähtökohta. Tiettyjen raja-arvojen ylittyessä voitaisiin yksivaiheisen tunnistuksen lisäksi vaatia toisen vaiheen käyttöä.\n",
    "\n",
    "Todennäköisyyksien puolesta mielekäs kysymys on, että mikä on tilin oikean omistajan kirjautumistodennäköisyys. Yksinkertainen esimerkki, jolla asiaa voidaan lähestyä, on ehdollisen todennäköisyyden kautta. Esimerkiksi omistajan kirjautumisen todennäköisyyttä voidaan lähestyä keksityn ehdollisen todennäköisyyden\n",
    "\n",
    "$$ P(\\text{ip}=x\\mid\\text{user}=u) = \\frac{\\text{logins from }x \\text{ with } u}{\\text{logins with }u} $$\n",
    "\n",
    "kautta. Käyttämällä seuraavaa yhden käyttäjän kirjautumistaulukkoa datana, ehdolliset todennäköisyydet ovat seuraavat: \n",
    "\n",
    "| Pvm | IP | Maa  |\n",
    "| :-: | :-: | :-: |\n",
    "| 1.6. | 1.2.3.4 | FI  |\n",
    "| 2.6. | 1.2.3.4  | FI  |\n",
    "| 3.6. | 5.6.7.8  | FI  |\n",
    "| 4.6. | 1.2.3.4  | FI  |\n",
    "| 5.6. | 5.6.7.8  | FI  |\n",
    "| 6.6. | 1.2.3.4  | FI  |\n",
    "| 7.6. | 1.2.3.45  | FI  |\n",
    "| 8.6. | 98.76.54.32  | SE  |\n",
    "\n",
    "$$P(\\text{ip}=1.2.3.*\\mid\\text{user}=u)=62.5\\%$$ \n",
    "$$P(\\text{ip}=5.6.7.8\\mid\\text{user}=u)=25\\%$$ \n",
    "$$P(\\text{ip}=98.76.54.32\\mid\\text{user}=u)=12.5\\%$$\n",
    "\n",
    "Käytännössä kuitenkin esimerkiksi dynaamisen IP:n vuoksi käyttäjien tarkka IP-osoite voi vaihdella, mikä puolestaan voi aiheuttaa turhaa vaivaa ja täten käyttäjäkatoa palvelulle. Siksi raa'an todennäköisyyden sijasta voisi olla viisasta lisätä todennäköisyyteen jonkinasteista pehmennystä, jolla etenkin harvaan kirjautuneiden käyttäjien kirjautumiskertoja saadaan painotettua ehdollisen todennäköisyyden laskennassa. Tällöin ehdollinen todennäköisyys saa muodon\n",
    "\n",
    "$$ P(\\text{ip}=x\\mid\\text{user}=u) = \\frac{\\text{logins from }x \\text{ with } u + \\alpha}{\\text{logins with }u + \\beta}, $$\n",
    "\n",
    "jossa $\\alpha$ ja $\\beta$ ovat esimerkiksi IP:n pohjalta määräytyviä arvoja. Toisin sanoen jos on oletettavissa, että 20% kirjautumisista tulee käsiteltävästä IP-osoitteesta, voidaan kyseisen IP:n kohdalla käyttää arvoja $\\alpha=0.2$ ja $\\beta=1$. Näin ehdolliset todennäköisyydet saavat seuraavat arvot:\n",
    "\n",
    "$$P(\\text{ip}=1.2.3.*\\mid\\text{user}=u)=68.9\\%$$ \n",
    "$$P(\\text{ip}=5.6.7.8\\mid\\text{user}=u)=24.4\\%$$ \n",
    "$$P(\\text{ip}=98.76.54.32\\mid\\text{user}=u)=13.3\\%$$\n",
    "\n",
    "Säätämällä arvoja saadaan merkitsevyyttä viilattua vastaamaan odotuksia ja todellisuutta. Samankaltaisella lähestymisellä voidaan kohdella kutakin edellä listatuista käyttäjätileihin kohdistuvasta hyökkäyksestä kertovista signaaleista."
   ]
  },
  {
   "cell_type": "markdown",
   "metadata": {},
   "source": [
    "#### Building your classifier\n",
    "\n",
    "Ilman oikeita vastauksia edellä mainittujen piirteiden ja todennäköisyyksien hyödyntäminen luokittelussa haastavaa. Naaivi lähestymistapa olisi käsitellä kutakin piirrettä ja siitä muodostettua todennäköisyyttä ja muodostaa näin kokonaistodennäköisyys kullekin kirjautumiselle. Toisaalta tässä yhteydessä voitaisiin käyttää myös jotain ryhmittelymenetelmää, kuten yksiluokkaista tukivektorikonetta tai eristysmetsää. Oikeiden vastausten löytyessä ongelma on jo melko triviaali."
   ]
  },
  {
   "cell_type": "markdown",
   "metadata": {},
   "source": [
    "### Account Creation\n",
    "\n",
    "Kaikkeen haitalliseen toimintaan ei tarvita olemassaolevan tilin kaappausta, vaan uuden tilin luominenkin riittää joissain tapauksissa. Esimerkiksi huijausviestien lähettäminen voi onnistua täysin uudellakin perustilillä. Mikäli tilejä voidaan luoda rajatta, voidaan koko järjestelmä ikäänkuin kaapata näin. Pisteyttämällä tilin luontiprosessi voidaan valetilien luonteja vähentää ja estää jo alkumetreiltä. Samoin pisteyttämällä jo luodut tilit voidaan haitalliseksi epäillyt tilit estää tai jopa poistaa. Tällöin soveliaita piirteitä voisi olla esimeriksi IP-kohtaisesti luotujen tilien määrä jossain ajanjaksossa. Tässäkin tapauksessa rajana on ensisijaisesti aika, jolloin ajanjakson sisällä haitallinen toiminta on täysin mahdollista, mikäli tilien luontimäärää ei ole itsessään rajoitettu. Ylipäätään tässä yhteydessä sovellettavat piirteet jaetaan kahteen pääjoukkoon: nopeus- ja mainepiirteisiin."
   ]
  },
  {
   "cell_type": "markdown",
   "metadata": {},
   "source": [
    "#### Velocity features\n",
    "\n",
    "Pelkkä IP-osoitteiden estäminen havaittaessa ei ole riittävä tapa estää haitallista toimintaa, sillä uusia reittejä ja täten IP-osoitteita on melko helppo löytää. Siksi karkean ja tehottoman estämisen sijasta on hyödyllisempää on käyttää robusteja piirteitä. Eräs tällainen on laskurin käyttö, joka tarkkailee esimerkiksi kunkin IP-osoitteen tunnuslukuja tuntikohtaisesti pitäen tiettyä määrää historiadataa myös aina saatavilla. Koska liian yksityiskohtaisen kirjanpidon kolikon kääntöpuolella on nopeasti räjähtävät tallennustilavaatimukset, voidaan myös tilien luonteja laskea pitäen samalla kirjaa käyttäjien IP-osoitteista, käyttöjärjestelmistä ja muusta saatavilla olevasta datasta. \n",
    "\n",
    "Kun jokaisesta näistä piirteistä ylläpidetään riittävän historian säilyttävää laskuria yleisemmällä tasolla, saadaan sekä käsitys järjestelmän normaalista käyttöasteesta että poikkeavista toiminnoista. Joissain tapauksissa yksityiskohtaisuutta on hyvä hakea. Esimerkiksi käyttöjärjestelmien kohdalla jakaumien erottelu käyttöjärjestelmäkohtaisesti voi olla kannattavaa, sillä yksittäiset jonkin tietyn käyttöjärjestelmän piikit voivat kertoa haitallisesta toiminnasta. Ylipäätään *suhteellisten* piikkien tarkastelulla saadaan ylläpidettyä hyvää tilannekuvaa, joskin piikkien havaitseminen edellyttää olemassaolevaa dataa.\n",
    "\n",
    "Mielenkiintoisia suhteellisia piirteitä voivat olla esimerkiksi:\n",
    " \n",
    " - Onnistuneiden kirjautumisten suhde epäonnistuneisiin\n",
    " - Suorien API-kutsujen suhde sivuston kautta tuleviin kutsuihin\n",
    " - Mobiilipyyntöjen suhde työpöytäpyyntöihin\n",
    " - Virhevastausten (4xx) suhde onnistuneisiin (2xx)"
   ]
  },
  {
   "cell_type": "markdown",
   "metadata": {},
   "source": [
    "#### Reputation scores\n",
    "\n",
    "Siinä missä nopeuspiirteet toimivat suuren mittaluokan toiminnan havaitsemisessa, mutta yksityiskohtaisempaan tarkasteluun ne eivät enää sovellu. Tällöin kysymys yleisestä tilannekuvasta vaihtuu kysymykseen yksittäisten havaintojen luotettavuudesta, mitä voidaan mitata joko omiin tai ulkoisiin havaintoihin perustuvalla maineella. Jos IP-osoitteesta on aiemmin todettu haitallista vaikuttamista, voidaan sitä odottaa myös jatkossakin. IP-osoitten mainetta kuvaavia piirteitä ovat esimerkiksi seuraavat:\n",
    "\n",
    " - Milloin IP-osoite on viimeksi nähty?\n",
    " - Montako aitoa tiliä IP-osoitteella on?\n",
    " - Paljonko IP-osoite tuottaa?\n",
    " - Kuinka johdonmukaista osoitteesta tuleva liikenne on?\n",
    " - Mikä on osoitteen kirjoitusten ja lukujen suhde (roskaposti)?\n",
    " - Kuinka edustettu osoite on kaikissa kyselyissä?\n",
    " \n",
    "Omien kerättävien tietojen lisäksi käytettävissä on myös muiden ylläpitämiä tietokantoja, joita voi hyödyntää. Näitä kantoja löytyy esimerkiksi ylläpitopalveluista, IP-osoitteista, käyttäjä-agenteista (*user-agent*). Näiden kaikkien piirteiden yhdistämisessä mielenkiintoinen kysymys voi olla esimerkiksi se, että kuinka todennäköisesti IP-osoitteesta aiheutuu haittaa tulevaisuudessa. Yleisellä tasolla ongelma voidaan muotoilla uudelleen siten, että perustuen historiadataan, kuinka todennäköisesti IP-osoitteesta luodaan valetili lähitulevaisuudessa käyttäen lähtötietoina edellä määriteltyjä piirteitä lukuina ja suhteina. Piirteitä voidaan muodostaa myös muistakin asioista, kuin IP-osoitteesta."
   ]
  },
  {
   "cell_type": "markdown",
   "metadata": {},
   "source": [
    "### Financial Fraud\n",
    "\n",
    "Mikäli tuote voidaan saada haltuun ilmaiseksi, esimerkiksi käyttämällä varastettuja luottokorttitietoja, sen jälleenmyynnillä alkuperäistä halvemmalla voidaan tehdä merkittävääkin tuottoa. Suurin osa rahallisista huijauksista toteutetaankin varastetuilla luottokorteilla ja ongelma on internetiäkin vanhempi. Maksuliikenne on monivaiheinen prosessi, jossa jokaisessa sen vaiheessa on kyettävä turvaamaan rahaliikenteen ja maksutietojen salattuus. Samoin joka vaiheessa on myös oltava kyky tunnistaa petokset. Luottokorttien lisäksi myös vastaavat digitaaliset palvelut, kuten PayPal tai Apple Pay, ovat tälle alttiita.\n",
    "\n",
    "Seuraavat piirteet ovat kirjan mukaisesti petoksen tunnistamiselle hyödyllisiä:\n",
    "\n",
    " - Kuinka suuresti yksittäisen oston rahasumma poikkeaa asiakkaan tavanomaisista ostoksista?\n",
    " - Ostotiheys\n",
    " - Ostettujen tuotteiden kategorinen tavanomaisuus kyseisellä asiakkaalla\n",
    " - Onko kyseessä vanha asiakas vai ensiostaja?\n",
    " - Onko maksutapa asiakkaal tyypillinen?\n",
    " - Kuinka tuore uusi maksutapa asiakkaalla on?\n",
    " \n",
    "Näiden lisäksi voidaan pitää kirjaa siitä, mistä päin maailmaa asiakkaan ostotapahtumat normaalisti tulevat ja verrata uusia ostosijainteja näihin. Poikkeavat toimitusosoitteet, käyttäjän sijaintiin nähden epätavalliset rahoituslaitosten sijainnit, tilin maine ja maksutapojen käyttöyritysten määrät ovat myös hyödyllisiä petoksen tunnistamisen piirteitä. Tällaisesta datasta saadaan oikeita vastauksia aina viiveellä, kun asiakkaat huomaavaat tapahtuneen ja pyrkivät mitätöimään petoksella tehtyjä ostoksia."
   ]
  },
  {
   "cell_type": "markdown",
   "metadata": {},
   "source": [
    "### Bot Activity\n",
    "\n",
    "Sellaisten käyttäjätilien kaappaus, jotka antavat hyökkääjälle kelvollisen tuoton, on usein vaivaa vaativan ihmistyön takana. Usein laajemman käyttäjämassan hyväksikäyttö edellyttääkin automaatiota, jotta hyökkääjän työ tuottaa enemmän kuin se vie. Siksi automatisoidun eli bottipohjaisen toiminnan havaitseminen on tärkeää. Automaation keinoilla voidaan pyrkiä toimimaan ainakin seuraavilla alueilla:\n",
    "\n",
    " - Valetilien luonti\n",
    " - Vuodettujen käyttätietojen kokeilu vasten palvelun tunnistuspalvelua\n",
    " - Sivuston tonkiminen haavoittuvuuksien tai liikesalaisuuksien vuoksi\n",
    " - Klikkimääriin liittyvä petos mainontatuloissa\n",
    " - Vertailusijapetos tykkäysten, arvostelujen tai kommenttien kautta\n",
    " - Verkkopelaaminen\n",
    " \n",
    "Rahapetosten ohella myös tällä alueella toimitaan aktiivisesti tunnistamistarkkuuden ja -laajuuden parantamiseksi. Automatisoidun toiminnan havaitsemisen ensiaskeleita on käyttäjäkohtaisen toiminnan keruu, sillä tunnistamisen perusajatuksena on merkittävä eroavuus botti- ja ihmistoiminnan välillä. Datan keruun jälkeen siitä voidaan muodostaa vaikkapa seuraavia piirteitä:\n",
    "\n",
    " - Pyyntöjen tiheys\n",
    " - Pyyntöjen säännöllisyys\n",
    " - Pyyntöjen kohteiden hajonta\n",
    " - Toistuvat kuviot pyynnöissä\n",
    " - Epätavalliset siirtymät\n",
    " - Header-tietojen monimuotoisuus\n",
    " - Istuntokohtaiset erot\n",
    " - Hajonta pyyntöjen vastauskoodeissa\n",
    " \n",
    "Aina dataa ei voida kerätä käyttäjäkohtaisesti. Tällöin on keskityttävä kunkin sivustoa käyttävän toimijan tarkasteluun, milloin keskitytään pyyntökohtaiseen tunnistamiseen. Vaikkakin menetelmiä tähänkin löytyy, lisäävät ne tavallisesti oikeiden käyttäjien palvelun käyttötaakkaa ylimääräisin toimenpitein tai vaadituin oikeuksin."
   ]
  },
  {
   "cell_type": "markdown",
   "metadata": {},
   "source": [
    "#### Labeling and metrics\n",
    "\n",
    "Bottien tekemien pyyntöjen luotettava nimiköiminen (*labeling*) on haastavaa, sillä yksittäisten pyyntöjen luokittelu ei ole helppoa ihmisellekään. Ilmeisintä on, mikäli sivustoon yhteyttävä ottava käyttäjä ilmaisee header-tiedossaan olevan botti. Muissa tapauksissa kyse on enemmän tai vähemmän tapauskohtaisista tekijöistä. Automatisoidut palvelussa tehdyt kirjoitusoperaatiot voivat ilmetä oikeiden käyttäjän roskapostivalituksina, kun taas lukuoperaatiot näkyvät käyttötilastoissa. Haittaliikennettä ei yleensäkään tulisi kuitenkaan mitata niillä suureilla, joilla sitä pyritään estämään - näin toimiessa haitallinen toiminta pakotetaan kehittymään ja muuntumaan vaikeammin havaittavaksi. \n",
    "\n",
    "Aina bottiliikenteestä ei ole muuta haittaa, kuin käyttäjätilastojen likaus. Mikäli kiinnostavaa on palvelun todellinen tavoittavuus, on bottiliikenteen suodatus tarpeellista. Esitellyt menetelmät toimivat myös näissä tapauksissa."
   ]
  },
  {
   "cell_type": "markdown",
   "metadata": {},
   "source": [
    "## Supervised Learning for Abuse Problems\n",
    "\n",
    "Kun data on riittävään tasoon asti piirteistetty ja soveliaasti myös nimiöity, voidaan edetä luokittimen rakentamiseen. Eteneminen ei kuitenkaan ole niin yksinkertainen, että datan käsittelyn ja piirteistämisen jälkeen se vain jaetaan koulutukselle soveliaisiin osiin ja syötetään sopivaan ohjatun oppimisen malliin. Vaikka seuraavaksi keskitytäänkin tilien luokittelijaan, pätevät käsitellyt asiat luokitteluun myös laajemmin."
   ]
  },
  {
   "cell_type": "markdown",
   "metadata": {},
   "source": [
    "### Labeling Data\n",
    "\n",
    "Oikeassa elämässä nimiöity data on harvinaista ja nimiöinti on tehtävä itse. Toisaalta, jos dataakin on vain kourallinen, ei suuren skaalan koneoppimisesta ole vielä soveltuvaksi käsillä olevaan ongelmaan. Todennäköistä on, että jokseenkin käytetyssä palvelussa on jo ehtinyt tulla vastaan käyttäjien rankaisemista, ilmiselvien roskapostibottitilien estämistä ja poistoja. Tätä kaikkea voi käyttää hyvinkin nimiöinnin lähtökohtana. \n",
    "\n",
    "Pelkästään näistä havainnoista oppiminen voi olla ongelmallista, minkä vuoksi näytteistyksellä saadaan lisätukea nimiöintiin. Ylinäytteistämällä käsin nimiöityjä näytteitä sekä mallin ennustamia varmistetusti haitalliseksi luokiteltuja haitattomia havaintoja ja vastapainoisesti alinäytteistämällä edellisten iteraatioiden haitallisia havaintoja voidaan malli saada iteratiivisesti yleistymään ennalta sille tuntemattomiinkin havaintoihin - mikä itsessään on koneoppimismallintamisen tavoite.\n",
    "\n",
    "Samoin epätarkan datan kanssa ei tule liian tarkasti tuijottaa mallin tarkkuustuloksia, etenkään offline-koulutuksessa staattisella datajoukolla. Tärkeintä on, että oikeassa toimintaympäristössä mallin tarkkuus on vaivan arvoinen."
   ]
  },
  {
   "cell_type": "markdown",
   "metadata": {},
   "source": [
    "### Cold Start Versus Warm Start\n",
    "\n",
    "Mikäli mallin koulutus aloitetaan nolla-pisteestä siten, että tunnistamisen opettelu aloitetaan alusta, on kyseessä mallin kylmäkäynnistys. Toisaalta, mikäli kyseessä on esimerkiks olemassaolevan mallin jatkoversion kehittäminen, on kyseessä lämminkäynnistys. Kylmäkäynnistyksen kohdalla eteneminen on suoraviivaista, sillä malli oppii sitä mukaa, kun sille syötetään havaintoja. Lämminkäynnistyksessä on kiinnitettävä huomiota siihen, ettei uutta mallia kouluteta datalla, joka on esimerkiksi olemassaolevan mallin jo valmiiksi pureskelemaa. Mikäli lämminkäynnistyksen tilanne on\n",
    "\n",
    "    [data] -> [malli v1] -> [malli v2],\n",
    "    \n",
    "jää toiselta versiolta oppimatta ensimmäisen version datasta oppimat piirteet. Koulutustilanteen tulisikin olla esimerkiksi versioiden vertailussa\n",
    "\n",
    "           /-> [malli v1]\n",
    "    [data]<\n",
    "           \\-> [malli v2]."
   ]
  },
  {
   "cell_type": "markdown",
   "metadata": {},
   "source": [
    "### False Positives and False Negatives\n",
    "\n",
    "Teoriassa väärin haitattomiksi luokitellut (väärä negatiivinen) on helppo tunnistaa, kun haitattomaksi luultu tili osoittautuukin haitalliseksi. Käytännössä tämä kuitenkin edellyttää, että haitallinen toiminta myös *havaitaan* jonkin toisen mallin tai ilmoituksen kautta. Samoin väärin haitalliseksi luokitellut havainnot ovat hankalia käytännössä - epäilyn vuoksi käyttö estettiin, eikä lisätietoa koskaan voitu enää kerätä. Tällöin takaisinkytkentää ei juuri synny ja siksi olisikin hyvä, että edes pieni osa haitallisiksi luokitelluista tileistä sallittaisiin kuitenkin läpi erityistarkkailussa. Tämä taas puolestaan voi kuitenkin vaikuttaa siihen, että haitallinen vaikutus vähenee skaalatuvuuden puutteen vuoksi, mikä puolestaan vaikuttaa datasta tehtäviin johtopäätöksiin (miksi haitallista toimintaa on tai ei ole?).\n"
   ]
  },
  {
   "cell_type": "markdown",
   "metadata": {},
   "source": [
    "### Multiple Responses\n",
    "\n",
    "Usein käyttäjien tarkkailussa on monitasoisuutta. Selkeästi haitallisiksi luokitellut estetään, haitattomat päästetään ja väliin jäävät saavat esim CAPTCHA-testin ratkaistavakseen. Nämä vaihtelevat tilanteet on myös otettava soveliaasti painotettuina huomioon lopullisessa luokittelupisteytyksessä."
   ]
  },
  {
   "cell_type": "markdown",
   "metadata": {},
   "source": [
    "### Large Attacks\n",
    "\n",
    "Automatisoiduissa hyökkäyksissä haitallisen vaikuttamisen suhteelliset määrät voivat olla huomattavia, ja yksittäinenkin hyökkääjä voi generoida mittavan määrän liikennettä. Tällöin voi olla, että datajoukolla koulutettu malli sovittuukin lopulta vain yhden yksinkertaisempaa hyökkäystä käyttävän hyökkääjän toimintatapaan. Se toisin sanoen ylisovittuu eniten edustettuun mutta yksinkertaiseen hyökkäykseen.\n",
    "\n",
    "Tällöin suuria yksittäisiä hyökkäyksiä voidaan alinäytteistää, joskin ongelmaksi jää yksittäisten hyökkääjien identifioiminen laajasta datamassasta. Tätä käsitellään seuraavassa osiossa."
   ]
  },
  {
   "cell_type": "markdown",
   "metadata": {},
   "source": [
    "## Clustering Abuse\n",
    "\n",
    "Yhden käyttäjätunnuksen kaappaus vaikuttaa varsinaiseen järjestelmään vielä melko vähän. Vaikuttavuuden takaamiseksi tunnuksia on siksi tehtävä useita, mikä pätee toisaalta myös esimerkiksi roskaposteihinkin ja petoksiin ylipäätään. Petollinen toiminta ilmeneekin siksi useimmiten käyttäjätilien koordinoituna toimintana siten, että jokin toiminnasta eristettävä piirre on samankaltainen läpi tunnusten ja niiden käyttäytymisen. Tällöin ryhmittely muodostuu mielekkääksi tavaksi lähestyä ongelman ratkaisua.\n",
    "\n",
    "Ryhmittely etenee pääpiirteittäin seuraavasti:\n",
    "\n",
    " - Ryhmittele käyttäjät tai käyttäjätoiminnot\n",
    " - Arvioi kukin ryhmä haitallisuuden näkökulmasta\n",
    " - Erottele haitallisten ryhmien sisältä haitattomat havainnot\n",
    " \n",
    "Ryhmittelyssä on myös kaksi sovelluskohteesta riippuvaa huomioitavaa tekijää. Ensimmäinen on merkitsevän klusterin koon alaraja, eli milloin havaintojen joukkoa voidaan käsitellä ryhmänä. Toinen liittyy ryhmien haitallisuuden määrittämiseen, jolloin varmistamisen kohteena on sekä ryhmän homogeenisyys että kokonaisuus."
   ]
  },
  {
   "cell_type": "markdown",
   "metadata": {},
   "source": [
    "### Example: Clustering Spam Domains\n",
    "\n",
    "> Tämä aliluku jätettiin kokonaan pois, sillä esimerkistä on hyvin vähän toisinnettavaa koodia muistiinpanoihin tuotavaksi. Aliluvussa käsitellään domain-tunnusten ryhmittelyä sekä toimia, joita datalle on tehtävä ennen luokittelun onnistumista. Dataan hyödynnetään *n*-grammien muodostusta, LSH-algoritmia (Luku 2), k-Means-ryhmittelyä ja satunnaismetsäluokitinta nimiöidyn datan luokitteluun."
   ]
  }
 ],
 "metadata": {
  "kernelspec": {
   "display_name": "Python 3",
   "language": "python",
   "name": "python3"
  },
  "language_info": {
   "codemirror_mode": {
    "name": "ipython",
    "version": 3
   },
   "file_extension": ".py",
   "mimetype": "text/x-python",
   "name": "python",
   "nbconvert_exporter": "python",
   "pygments_lexer": "ipython3",
   "version": "3.7.0"
  },
  "toc": {
   "base_numbering": 1,
   "nav_menu": {},
   "number_sections": false,
   "sideBar": true,
   "skip_h1_title": false,
   "title_cell": "Sisällysluettelo",
   "title_sidebar": "Sisällysluettelo",
   "toc_cell": true,
   "toc_position": {
    "height": "1158px",
    "left": "278px",
    "top": "111.133px",
    "width": "236px"
   },
   "toc_section_display": true,
   "toc_window_display": true
  }
 },
 "nbformat": 4,
 "nbformat_minor": 2
}
