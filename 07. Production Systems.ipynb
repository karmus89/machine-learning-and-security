{
 "cells": [
  {
   "cell_type": "markdown",
   "metadata": {},
   "source": [
    "*Created by Petteri Nevavuori <<petteri.nevavuori@gmail.com>>*\n",
    "\n",
    "---\n",
    "\n",
    "**CHIO & FREEMAN: MACHINE LEARNING & SECURITY (2018)** <br>\n",
    "*<small>Otsikot kirjan mukaan, muutoin suomeksi.</small>*"
   ]
  },
  {
   "cell_type": "markdown",
   "metadata": {
    "toc": true
   },
   "source": [
    "<h1>Sisällysluettelo<span class=\"tocSkip\"></span></h1>\n",
    "<div class=\"toc\"><ul class=\"toc-item\"><li><span><a href=\"#Production-Systems\" data-toc-modified-id=\"Production-Systems-1\">Production Systems</a></span><ul class=\"toc-item\"><li><span><a href=\"#Defining-Machine-Learning-System-Maturity-and-Scalability\" data-toc-modified-id=\"Defining-Machine-Learning-System-Maturity-and-Scalability-1.1\">Defining Machine Learning System Maturity and Scalability</a></span><ul class=\"toc-item\"><li><span><a href=\"#What's-Important-for-Security-Machine-Learning-Systems?\" data-toc-modified-id=\"What's-Important-for-Security-Machine-Learning-Systems?-1.1.1\">What's Important for Security Machine Learning Systems?</a></span></li></ul></li><li><span><a href=\"#Data-Quality\" data-toc-modified-id=\"Data-Quality-1.2\">Data Quality</a></span><ul class=\"toc-item\"><li><span><a href=\"#Problem:-Bias-in-Datasets\" data-toc-modified-id=\"Problem:-Bias-in-Datasets-1.2.1\">Problem: Bias in Datasets</a></span></li><li><span><a href=\"#Problem:-Label-Inaccuracy\" data-toc-modified-id=\"Problem:-Label-Inaccuracy-1.2.2\">Problem: Label Inaccuracy</a></span></li><li><span><a href=\"#Solutions:-Data-Quality\" data-toc-modified-id=\"Solutions:-Data-Quality-1.2.3\">Solutions: Data Quality</a></span></li></ul></li></ul></li></ul></div>"
   ]
  },
  {
   "cell_type": "markdown",
   "metadata": {},
   "source": [
    "# Production Systems\n",
    "\n",
    "Tähän mennessä mallinnusta on lähestytty offline-näkökulmasta, eli eristetyissä laboratoriomaisissa ympäristöissä tapahtuvasti. Kyseessä on suuri harppaus, kun koulutusympäristöstä siirrytään tuotantoympäristöön koneoppimismenetelmien kohdalla. Skaalautuvuus, luotettavuus, tehokkuus ja merkityksellisyys saavat uudet mittasuhteet. Tässä luvussa keskitytään tähän aiheeseen, alkaen tuotantovalmiudesta, käyttöönotettavuudesta ja skaalautuvuudesta."
   ]
  },
  {
   "cell_type": "markdown",
   "metadata": {},
   "source": [
    "## Defining Machine Learning System Maturity and Scalability\n",
    "\n",
    "Abstraktien termien sijasta on hyvä käydä kypsien ja skaalautuvien koneoppimisjärjestelmien piirteitä ensin läpi, mitkä ovat yleisiä sovelluskontekstista riippumatta. Näitä piirteitä ovat:\n",
    "\n",
    " - *Datan laatu*: Vääristymätöntä, todennettavaa, järkevästi käsiteltyä\n",
    " - *Mallin laatu*: Hyperparametrien optimointi tehokasta, A/B testattuu, ajankohtaiset takaisinkytkennät, toistettavat ja selitettävät tulokset\n",
    " - *Suorituskyky*: Alhainen käyttöviive, skaalautuvuus, automatisoitu datan keruu ja käsittely\n",
    " - *Ylläpito*: Versioitu, sulava tuotantoonvienti, hallittu heikentyminen, helppo säädettävyys ja viritettävyys, hyvin dokumentoitu\n",
    " - *Seuranta*: Järjestelmän tila, suorituskyky ja datan jakaumat seurattavissa hälytyksin\n",
    " - *Luotettavuus*: Vakaa vihamielisissä ympäristöissä, data ja yksityisyys suojattua sekä turvattua\n",
    " \n",
    "Luonnollista kuitenkin on, että jokainen näistä piirteistä ei ole yhtä tärkeässä roolissa eri järjestelmissä."
   ]
  },
  {
   "cell_type": "markdown",
   "metadata": {},
   "source": [
    "### What's Important for Security Machine Learning Systems?\n",
    "\n",
    "Ensisijaisen tärkeää on, että turvallisuuskontekstiin kehitetyillä malleilla on äärimmäisen tarkat tarkkuusvaatimukset. Tuhannesosan virhe tarkottaa verkkoliikenteen pakettidatassa pahimmillaan tuhatta väärää tulosta minuutissa. Mikäli automatisoitua väärien negatiivisten tai positiivisten luokittelujen jatkotarkastusprosessia ei ole, on vaaditun ihmistyön määrä liian suuri, jotta järjestelmä tehostaisi mitään. Tärkeimmät edellämainituista piirteistä ovat turvallisuuskontekstissa:\n",
    "\n",
    " - Vääristymätön ja todennettava data\n",
    " - Mallin tehokas optimointi ja A/B-testattavuus\n",
    " - Skaalautuvuus ja tehokas automatisoitu datan keruu\n",
    " - Sulava tuotantoonvienti, helppo muokattavuus, dokumentoinnin kattavuus\n",
    " - Järjestelmän tilan ja suorituskyvyn seurattavuus\n",
    " - Datan yksityisyys suojattu\n",
    " \n",
    "Seuraavaksi käydään näitä piirteitä hieman tarkemmin läpi."
   ]
  },
  {
   "cell_type": "markdown",
   "metadata": {},
   "source": [
    "## Data Quality\n",
    "\n",
    "Kuten jo todettu sekä esimerkein osoitettu, datan laatu määrittelee mallinnuksen onnistumisen."
   ]
  },
  {
   "cell_type": "markdown",
   "metadata": {},
   "source": [
    "### Problem: Bias in Datasets\n",
    "\n",
    "Tasapainoiset datajoukot ovat harvinaisia, mutta epätasapainoisten datajoukkojen käyttö siirtää datassa piilevän vääristymän myös sillä koulutettuun malliin. Ajan ja muidenkin rajoitusten takia kerätyt datajoukot ovat usein jossain määrin vääristyneitä sekä epätäydellisiä mallinnettavaan kokonaiskysymykseen nähden - yhteen datajoukkoon on miltei mahdotonta saada luotettavuuden takaava määrä havaintoja jokaisesta haittaohjelmasta.\n",
    "\n",
    "Kirjassa esitellään termi populaatio, jolla viitataan kunkin tarkasteltavan asian kaikkiin mahdollisiin ilmentymiin. Koneoppimispuolella tässä kohdin on tavanomaista puhua *piilevästä datantuottoprosessista*, jota pyritään likimääräisesti mallintaamaan käyttämällä prosessiin liittyviä yksittäisiä havaintoja. Koska kaikki mahdollisia populaation ilmentymiä on mahdotonta kerätä datajoukkoon, on tyydyttävä vain rajatun osan koko prosessista tavoittavaan havaintojoukkoon. Tällöin datassa on itsessään elementit valintavääristymille, jolloin datajoukon keruupäätöksillä on jo lähtökohtaisesti rajattu kaikki sen ulkopuoliset havainnot mallinnuksen ulkopuolelle. Muitakin vääristymiä on, kuten havainto-odotus-vääristymä, jossa vain odotuksia vastaavat havainnot kerätään osaksi datajoukkoa."
   ]
  },
  {
   "cell_type": "markdown",
   "metadata": {},
   "source": [
    "### Problem: Label Inaccuracy\n",
    "\n",
    "Väärät havaintojen nimiöinnit vaikeuttava datantuottoprosessia tarkasti kuvaavan mallin kouluttamista. Mikäli datajoukko aina mallin suorituskyvyn mittaamiseen käytettyä validointidatajoukkoa myöten on väärin nimiöity, suoriutuu malli koulutusvaiheessa hyvin mutta heikosti tuotantokäytössä. Vääriä nimiöintejä tulee tyypillisesti esimerkiksi nimiöinnin joukkostamisen (*crowsourcing*) seurauksena. Toisaalta, myös nimiöintien jälkitarkastus vaatii suuria ihmisponnistuksia, vaikka koko joukosta valittaisiin vain satunnaisia havaintoja."
   ]
  },
  {
   "cell_type": "markdown",
   "metadata": {},
   "source": [
    "### Solutions: Data Quality\n",
    "\n",
    "Esiteltyihin ongelmiin on joitakin ratkaisuja. Tärkeintä on ymmärtää, että ongelma on todellinen. Havaintoluokkien epätasapaino on eräs vääristymän ilmentymä, joskin ilmeinen sellainen. Datajoukon keruuvaiheen vääristymiä on vaikeampi havaita, joita voi välttää vain olemalla erityisen huolellinen kerättävän datan ymmärtämisessä, keruun rajoitusten huomioinnissa ja keruun tavoitteiden mielessä pitämisessä. Joskus ongelman huolellinen rajaus auttaa jo sekin. Ihmisvirheitä saadaan vähennettyä, kun nimiöintiin osallistuu monia toisistaan riippumattomia henkilöitä. Tällöin havaintokohtainen konsensus on eräs ilmentymä onnistuneesta nimiöinnistä."
   ]
  },
  {
   "cell_type": "code",
   "execution_count": null,
   "metadata": {},
   "outputs": [],
   "source": []
  }
 ],
 "metadata": {
  "kernelspec": {
   "display_name": "Python 3",
   "language": "python",
   "name": "python3"
  },
  "language_info": {
   "codemirror_mode": {
    "name": "ipython",
    "version": 3
   },
   "file_extension": ".py",
   "mimetype": "text/x-python",
   "name": "python",
   "nbconvert_exporter": "python",
   "pygments_lexer": "ipython3",
   "version": "3.7.0"
  },
  "toc": {
   "base_numbering": 1,
   "nav_menu": {},
   "number_sections": false,
   "sideBar": true,
   "skip_h1_title": false,
   "title_cell": "Sisällysluettelo",
   "title_sidebar": "Sisällysluettelo",
   "toc_cell": true,
   "toc_position": {
    "height": "1158px",
    "left": "278px",
    "top": "111.133px",
    "width": "236px"
   },
   "toc_section_display": true,
   "toc_window_display": true
  }
 },
 "nbformat": 4,
 "nbformat_minor": 2
}
