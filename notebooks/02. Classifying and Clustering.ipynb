{
 "cells": [
  {
   "cell_type": "markdown",
   "metadata": {},
   "source": [
    "*Created by Petteri Nevavuori <<petteri.nevavuori@gmail.com>>*\n",
    "\n",
    "---\n",
    "\n",
    "**CHIO & FREEMAN: MACHINE LEARNING & SECURITY (2018)** <br>\n",
    "*<small>Otsikot kirjan mukaan, muutoin suomeksi.</small>*"
   ]
  },
  {
   "cell_type": "markdown",
   "metadata": {
    "toc": true
   },
   "source": [
    "<h1>Sisällysluettelo<span class=\"tocSkip\"></span></h1>\n",
    "<div class=\"toc\"><ul class=\"toc-item\"><li><span><a href=\"#Classifying-and-Clustering\" data-toc-modified-id=\"Classifying-and-Clustering-1\">Classifying and Clustering</a></span><ul class=\"toc-item\"><li><span><a href=\"#Machine-Learning:-Problems-and-Approaches\" data-toc-modified-id=\"Machine-Learning:-Problems-and-Approaches-1.1\">Machine Learning: Problems and Approaches</a></span></li></ul></li></ul></div>"
   ]
  },
  {
   "cell_type": "markdown",
   "metadata": {},
   "source": [
    "# Classifying and Clustering\n",
    "\n",
    "Tässä luvussa käydään läpi tietoturvasovellusten käyttökelpoisimpia koneoppimismenetelmiä, niiden perusteista aina käyttökelpoisen koneoppimistyökalupakin rakentamiseen. Luvussa pysyttäydytään menetelmien toiminnan ymmärtämisen tasossa menemättä nyansseihin."
   ]
  },
  {
   "cell_type": "markdown",
   "metadata": {},
   "source": [
    "## Machine Learning: Problems and Approaches\n",
    "\n",
    "Koneoppimismenetelmät ovat pohjimmiltaan algoritmeja ja historiallista dataa hyödyntäviä prosesseja tulevaisuuden tapahtumien luokitteluun (*classification*) tai arvojen ennustamiseen (*regression*). Luokittelu voi olla *binääristä* joko-tai-luokittelua tai sitten luokittelua yhdeksi tai useaksi monesta mahdollisesta luokasta (*multiclass classification*).\n",
    "\n",
    "Tietoturvaan liittyvät ongelmat liittyvät suuressa määrin jatkuvaan havainnointiin, jossa kukin uusi tilanne on kyettävä luokittelemaan joko turvalliseksi tai uhaksi. Näitä tilanteita ovat esimerkiksi jokainen uusi tiedosto, sähköposti, kirjautumisyritys ja palvelimelle tullut pyyntö. Ihmisvoimin käsitellen tehtävä osoittautuu piankin mahdottomaksi, mutta käyttämällä dataa eli vaikkapa kirjautumistietojen, tiedostojen, yhteydenottopyyntöjen jne. lokitiedostoja (*logs*) yhdessä datasta piirteitä oppivien mallien kanssa tehtävä helpottuu ja voidaan myös automatisoida.\n",
    "\n",
    "Arvojen ennustaminen eli regressio tulee kyseeseen, kun halutaan saada luotettava arvio vaikkapa johonkin työntekijään kohdistuneista kalasteluyrityksistä (*phishing*) kuukautta kohden. Tällöin logien sijasta käytetään muita muuttujia, kuten henkilön asema työpaikalla, käyttöoikeudet, viran pituus yms. Mikäli taas arvoja ennustetaan datasta, jossa on mukana myös ajan ulottuvuus eli peräkkäisiä havaintoja joiden oletetaan vaikuttavan ennustettavaan tulokseen, ollaan tekemisissä aikasarja-analyysin (*time series analysis*) kanssa. Tietoturvakonteksissa aikasarja-analyysiä voidaan käyttää ennustamaan normaalia kirjautumisten määrää vaikkapa jostain toimipisteestä, mitä sitten voidaan verrata ja tarvittaessa huomata mahdollinen kirjautumisten määrän poikkeava kasvu. Esimerkeistä viimeisin on hyvä esimerkki samalla myös poikkeamien havaitsemisesta (*anomaly detection*).\n",
    "\n",
    "Poikkeamia voidaan havaita myös ryhmittelymenetelmillä (*clustering*). Tällöin menetelmälle syötetty data ryhmitellään eli *klusteroidaan* havaintojen samankaltaisuuden perusteella suuremmiksi pääryhmiksi. Ryhmittelymenetelmälle voidaan opettaa esimerkiksi turvallisia tapahtumia. Sen kohdatessa uhaksi tulkittavan havainnon jää kyseinen havainto opittujen ryhmien ulkopuolelle. Ryhmittelyllä voidaan saada ymmärrystä myös vaikkapa sivustolle lähetetyistä pyynnöistä - mitkä pyynnöistä ovat todennäköisesti bottiverkon (*botnet*) lähettämiä pyyntöjä, mitkä taas virallisia.\n",
    "\n",
    "Koneoppiminen jaetaan perinteisesti myös ohjattuihin (*supervised*) ja ohjaamattomiin (*unsupervised*) menetelmiin. Luokittelu- ja regressiomenetelmät ovat perinteisesti ohjattuja, jolloin niitä koulutettaessa menetelmille syötetään havaintotiedon lisäksi myös oikea vastaus - luokka tai lukuarvo. Käytännön esimerkki ohjatuista menetelmistä on edellisen luvun roskapostien tunnistaminen, jossa luokka oli ennalta jo tiedossa. Ryhmittelymenetelmät pohjaavaat lähes aina dataan itseensä etsien ja ryhmitellen dataa sen sisäisten ominaisuuksien perusteella. Tämä on ohjaamatonta oppimista, eli menetelmän annetaan itse määrittää datalle ominaiset ryhmät ja niiden ominaisuudet."
   ]
  },
  {
   "cell_type": "code",
   "execution_count": null,
   "metadata": {},
   "outputs": [],
   "source": []
  }
 ],
 "metadata": {
  "kernelspec": {
   "display_name": "Python 3",
   "language": "python",
   "name": "python3"
  },
  "language_info": {
   "codemirror_mode": {
    "name": "ipython",
    "version": 3
   },
   "file_extension": ".py",
   "mimetype": "text/x-python",
   "name": "python",
   "nbconvert_exporter": "python",
   "pygments_lexer": "ipython3",
   "version": "3.6.6"
  },
  "toc": {
   "base_numbering": 1,
   "nav_menu": {},
   "number_sections": false,
   "sideBar": true,
   "skip_h1_title": false,
   "title_cell": "Sisällysluettelo",
   "title_sidebar": "Sisällysluettelo",
   "toc_cell": true,
   "toc_position": {
    "height": "1158px",
    "left": "278px",
    "top": "111.133px",
    "width": "338px"
   },
   "toc_section_display": true,
   "toc_window_display": false
  }
 },
 "nbformat": 4,
 "nbformat_minor": 2
}
