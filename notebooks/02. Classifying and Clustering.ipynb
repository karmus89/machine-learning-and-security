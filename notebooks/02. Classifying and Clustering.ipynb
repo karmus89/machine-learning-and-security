{
 "cells": [
  {
   "cell_type": "markdown",
   "metadata": {},
   "source": [
    "*Created by Petteri Nevavuori <<petteri.nevavuori@gmail.com>>*\n",
    "\n",
    "---\n",
    "\n",
    "**CHIO & FREEMAN: MACHINE LEARNING & SECURITY (2018)** <br>\n",
    "*<small>Otsikot kirjan mukaan, muutoin suomeksi.</small>*"
   ]
  },
  {
   "cell_type": "markdown",
   "metadata": {
    "toc": true
   },
   "source": [
    "<h1>Sisällysluettelo<span class=\"tocSkip\"></span></h1>\n",
    "<div class=\"toc\"><ul class=\"toc-item\"><li><span><a href=\"#Classifying-and-Clustering\" data-toc-modified-id=\"Classifying-and-Clustering-1\">Classifying and Clustering</a></span><ul class=\"toc-item\"><li><span><a href=\"#Machine-Learning:-Problems-and-Approaches\" data-toc-modified-id=\"Machine-Learning:-Problems-and-Approaches-1.1\">Machine Learning: Problems and Approaches</a></span></li><li><span><a href=\"#Machine-Learning-in-Practice:-A-Worked-Example\" data-toc-modified-id=\"Machine-Learning-in-Practice:-A-Worked-Example-1.2\">Machine Learning in Practice: A Worked Example</a></span></li></ul></li></ul></div>"
   ]
  },
  {
   "cell_type": "markdown",
   "metadata": {},
   "source": [
    "# Classifying and Clustering\n",
    "\n",
    "Tässä luvussa käydään läpi tietoturvasovellusten käyttökelpoisimpia koneoppimismenetelmiä, niiden perusteista aina käyttökelpoisen koneoppimistyökalupakin rakentamiseen. Luvussa pysyttäydytään menetelmien toiminnan ymmärtämisen tasossa menemättä nyansseihin."
   ]
  },
  {
   "cell_type": "markdown",
   "metadata": {},
   "source": [
    "## Machine Learning: Problems and Approaches\n",
    "\n",
    "Koneoppimismenetelmät ovat pohjimmiltaan algoritmeja ja historiallista dataa hyödyntäviä prosesseja tulevaisuuden tapahtumien luokitteluun (*classification*) tai arvojen ennustamiseen (*regression*). Luokittelu voi olla *binääristä* joko-tai-luokittelua tai sitten luokittelua yhdeksi tai useaksi monesta mahdollisesta luokasta (*multiclass classification*).\n",
    "\n",
    "Tietoturvaan liittyvät ongelmat liittyvät suuressa määrin jatkuvaan havainnointiin, jossa kukin uusi tilanne on kyettävä luokittelemaan joko turvalliseksi tai uhaksi. Näitä tilanteita ovat esimerkiksi jokainen uusi tiedosto, sähköposti, kirjautumisyritys ja palvelimelle tullut pyyntö. Ihmisvoimin käsitellen tehtävä osoittautuu piankin mahdottomaksi, mutta käyttämällä dataa eli vaikkapa kirjautumistietojen, tiedostojen, yhteydenottopyyntöjen jne. lokitiedostoja (*logs*) yhdessä datasta piirteitä oppivien mallien kanssa tehtävä helpottuu ja voidaan myös automatisoida.\n",
    "\n",
    "Arvojen ennustaminen eli regressio tulee kyseeseen, kun halutaan saada luotettava arvio vaikkapa johonkin työntekijään kohdistuneista kalasteluyrityksistä (*phishing*) kuukautta kohden. Tällöin logien sijasta käytetään muita muuttujia, kuten henkilön asema työpaikalla, käyttöoikeudet, viran pituus yms. Mikäli taas arvoja ennustetaan datasta, jossa on mukana myös ajan ulottuvuus eli peräkkäisiä havaintoja joiden oletetaan vaikuttavan ennustettavaan tulokseen, ollaan tekemisissä aikasarja-analyysin (*time series analysis*) kanssa. Tietoturvakonteksissa aikasarja-analyysiä voidaan käyttää ennustamaan normaalia kirjautumisten määrää vaikkapa jostain toimipisteestä, mitä sitten voidaan verrata ja tarvittaessa huomata mahdollinen kirjautumisten määrän poikkeava kasvu. Esimerkeistä viimeisin on hyvä esimerkki samalla myös poikkeamien havaitsemisesta (*anomaly detection*).\n",
    "\n",
    "Poikkeamia voidaan havaita myös ryhmittelymenetelmillä (*clustering*). Tällöin menetelmälle syötetty data ryhmitellään eli *klusteroidaan* havaintojen samankaltaisuuden perusteella suuremmiksi pääryhmiksi. Ryhmittelymenetelmälle voidaan opettaa esimerkiksi turvallisia tapahtumia. Sen kohdatessa uhaksi tulkittavan havainnon jää kyseinen havainto opittujen ryhmien ulkopuolelle. Ryhmittelyllä voidaan saada ymmärrystä myös vaikkapa sivustolle lähetetyistä pyynnöistä - mitkä pyynnöistä ovat todennäköisesti bottiverkon (*botnet*) lähettämiä pyyntöjä, mitkä taas virallisia.\n",
    "\n",
    "Koneoppiminen jaetaan perinteisesti myös ohjattuihin (*supervised*) ja ohjaamattomiin (*unsupervised*) menetelmiin. Luokittelu- ja regressiomenetelmät ovat perinteisesti ohjattuja, jolloin niitä koulutettaessa menetelmille syötetään havaintotiedon lisäksi myös oikea vastaus - luokka tai lukuarvo. Käytännön esimerkki ohjatuista menetelmistä on edellisen luvun roskapostien tunnistaminen, jossa luokka oli ennalta jo tiedossa. Ryhmittelymenetelmät pohjaavaat lähes aina dataan itseensä etsien ja ryhmitellen dataa sen sisäisten ominaisuuksien perusteella. Tämä on ohjaamatonta oppimista, eli menetelmän annetaan itse määrittää datalle ominaiset ryhmät ja niiden ominaisuudet."
   ]
  },
  {
   "cell_type": "markdown",
   "metadata": {},
   "source": [
    "## Machine Learning in Practice: A Worked Example\n",
    "\n",
    "Tässä esimerkissä käytetään ostotapahtumista (*transaction*) muodostettua datasettiä, joka löytyy [kirjan GitHubista](https://github.com/oreilly-mlsec/book-resources/blob/master/chapter2/datasets/payment_fraud.csv). Datasetissä on viisi piirrettä talletettuna kustakin tapahtumasta sekä tieto siitä, oliko ostotapahtuma petos (*fraud*) vai ei. Tieto siitä, onko jokin ostotapahtuma ollut petos vai ei, on saatu keräämällä tietoa tapahtumiin liittyvistä mitätöintipyynnöistä - mikäli käyttäjä on epäillyt maksuvälineensä väärinkäyttöä, hän on pyytänyt tehdyn ostoksen mitätöinti ja rahojen palautusta. Pyynnöt eivät kuitenkaan ole reaaliaikaisesti käytettävissä, sillä niitä tehdään jopa kuukausia tapahtuman jälkeen. Tällöin myös ostetut tavarat on ehditty jo lähettää, eikä niitä juuri saada enää takaisin. Siksi onkin merkittävää kyetä ennustamaan, mikäli jokin ostotapahtuma ilmentää petollisia piirteitä ja estää mahdollinen liiketoimintahäviö jo ennen tavaran lähetystä.\n",
    "\n",
    "Ensin ladataan tiedot käyttöön ja tarkastellaan muutamaa ensimmäistä riviä."
   ]
  },
  {
   "cell_type": "code",
   "execution_count": 7,
   "metadata": {},
   "outputs": [
    {
     "data": {
      "text/html": [
       "<div>\n",
       "<style scoped>\n",
       "    .dataframe tbody tr th:only-of-type {\n",
       "        vertical-align: middle;\n",
       "    }\n",
       "\n",
       "    .dataframe tbody tr th {\n",
       "        vertical-align: top;\n",
       "    }\n",
       "\n",
       "    .dataframe thead th {\n",
       "        text-align: right;\n",
       "    }\n",
       "</style>\n",
       "<table border=\"1\" class=\"dataframe\">\n",
       "  <thead>\n",
       "    <tr style=\"text-align: right;\">\n",
       "      <th></th>\n",
       "      <th>accountAgeDays</th>\n",
       "      <th>numItems</th>\n",
       "      <th>localTime</th>\n",
       "      <th>paymentMethod</th>\n",
       "      <th>paymentMethodAgeDays</th>\n",
       "      <th>label</th>\n",
       "    </tr>\n",
       "  </thead>\n",
       "  <tbody>\n",
       "    <tr>\n",
       "      <th>0</th>\n",
       "      <td>29</td>\n",
       "      <td>1</td>\n",
       "      <td>4.745402</td>\n",
       "      <td>paypal</td>\n",
       "      <td>28.204861</td>\n",
       "      <td>0</td>\n",
       "    </tr>\n",
       "    <tr>\n",
       "      <th>1</th>\n",
       "      <td>725</td>\n",
       "      <td>1</td>\n",
       "      <td>4.742303</td>\n",
       "      <td>storecredit</td>\n",
       "      <td>0.000000</td>\n",
       "      <td>0</td>\n",
       "    </tr>\n",
       "    <tr>\n",
       "      <th>2</th>\n",
       "      <td>845</td>\n",
       "      <td>1</td>\n",
       "      <td>4.921318</td>\n",
       "      <td>creditcard</td>\n",
       "      <td>0.000000</td>\n",
       "      <td>0</td>\n",
       "    </tr>\n",
       "    <tr>\n",
       "      <th>3</th>\n",
       "      <td>503</td>\n",
       "      <td>1</td>\n",
       "      <td>4.886641</td>\n",
       "      <td>creditcard</td>\n",
       "      <td>0.000000</td>\n",
       "      <td>0</td>\n",
       "    </tr>\n",
       "    <tr>\n",
       "      <th>4</th>\n",
       "      <td>2000</td>\n",
       "      <td>1</td>\n",
       "      <td>5.040929</td>\n",
       "      <td>creditcard</td>\n",
       "      <td>0.000000</td>\n",
       "      <td>0</td>\n",
       "    </tr>\n",
       "  </tbody>\n",
       "</table>\n",
       "</div>"
      ],
      "text/plain": [
       "   accountAgeDays  numItems  localTime paymentMethod  paymentMethodAgeDays  \\\n",
       "0              29         1   4.745402        paypal             28.204861   \n",
       "1             725         1   4.742303   storecredit              0.000000   \n",
       "2             845         1   4.921318    creditcard              0.000000   \n",
       "3             503         1   4.886641    creditcard              0.000000   \n",
       "4            2000         1   5.040929    creditcard              0.000000   \n",
       "\n",
       "   label  \n",
       "0      0  \n",
       "1      0  \n",
       "2      0  \n",
       "3      0  \n",
       "4      0  "
      ]
     },
     "execution_count": 7,
     "metadata": {},
     "output_type": "execute_result"
    }
   ],
   "source": [
    "import os\n",
    "import pandas as pd\n",
    "\n",
    "ROOT_DIR = os.path.dirname(os.getcwd())\n",
    "DATASET_PATH = os.path.join(ROOT_DIR,'datasets','payment_fraud.csv')\n",
    "\n",
    "dataset = pd.read_csv(DATASET_PATH)\n",
    "dataset.head()"
   ]
  },
  {
   "cell_type": "markdown",
   "metadata": {},
   "source": [
    "Datasetin muuttujat ovat yhtä lukuunottamatta sellaisenaan käytettävässä muodossa. Maksutapaa ilmaiseva `paymentMethod` sisältää kuitenkin kategorisia arvoja, joiden kanssa on toimittava erityistä huomiota kiinnittäen. Koska koneoppimismenetelmät toimivat luvuilla, on tekstimuotoiset tiedot ensinnäkin muutettava luvuiksi. Pelkkä `paypal => 1, storecredit => 2, ...` muunnos ei kuitenkaan ole kelvollinen, sillä muuttujilla ei ole lineaarista suhdetta toisiinsa - Paypal ei ole maksuvälineenä suurempi, parempi tai huonompi, kuin käteinen.\n",
    "\n",
    "Kategorisia muuttujia sisältävä sarake tavataan usein hajoittaa useaksi sarakkeeksi siten, että jokainen hajoitettu sarake vastaa yhtä alkuperäisen sarakkeen uniikkia arvoa. Toisin sanoen sarake\n",
    "\n",
    "| Sankarit |\n",
    "| -------- |\n",
    "| Nalle Puh |\n",
    "| Hämis |\n",
    "| Mustanaamio |\n",
    "\n",
    "hajoitettaisiin useaksi sarakkeeksi seuraavasti:\n",
    "\n",
    "| Sankarit: Nalle Puh | Sankarit: Hämis | Sankarit: Mustanaamio |\n",
    "| -------- | -------- | -------- | \n",
    "| 1 | 0 | 0 |\n",
    "| 0 | 1 | 0 |\n",
    "| 0 | 0 | 1 |\n",
    "\n",
    "Tämä tunnetaan valemuuttujien (*dummy variables*) muodostamisena sekä [*one-hottauksena*](https://en.wikipedia.org/wiki/One-hot). Valemuuttujien muodostamisen lisäksi, vaikka kirjassa tätä ei toistaiseksi käsitellä, on myös tavallista varmistua datasetin muuttujien *yksiselitteisyydestä*. Esimerkkimme taulukossa meillä on kolme arvoa ja loogisesti seuraten sen hajoitetussa versiossa kolme saraketta. Hajoitettu taulukko sisältää kuitenkin enemmän informaatiota, kuin mitä tarvitaan sankarin määrittämiseen yksiselitteisesti. Jos sankari on Nalle Puh tai Hämis, arvo on yksiselitteinen. Jos sankari ei ole kumpikään näistä, se on edelleen yksiselitteinen, sillä ainoa jäljelle jäävä vaihtoehto on Mustanaamio. Tieto Mustanaamiosta on siis ylimääräinen ja se itseasiassa aiheuttaa mallin [piirteiden selityskykyä alentavan ongelman](https://en.wikipedia.org/wiki/Multicollinearity), vaikkakaan suorituskyky tarkkuuden näkökulmasta ei kärsisikään.\n",
    "\n",
    "Siispä seuraavaksi korvataan `paymentMethod`-sarake sen arvoista muodostetuilla valesarakkeilla jättäen yksi sarakkeista pois."
   ]
  },
  {
   "cell_type": "code",
   "execution_count": 8,
   "metadata": {},
   "outputs": [
    {
     "name": "stdout",
     "output_type": "stream",
     "text": [
      "Unique paymentMethod categories: ['paypal', 'storecredit', 'creditcard']\n"
     ]
    },
    {
     "data": {
      "text/html": [
       "<div>\n",
       "<style scoped>\n",
       "    .dataframe tbody tr th:only-of-type {\n",
       "        vertical-align: middle;\n",
       "    }\n",
       "\n",
       "    .dataframe tbody tr th {\n",
       "        vertical-align: top;\n",
       "    }\n",
       "\n",
       "    .dataframe thead th {\n",
       "        text-align: right;\n",
       "    }\n",
       "</style>\n",
       "<table border=\"1\" class=\"dataframe\">\n",
       "  <thead>\n",
       "    <tr style=\"text-align: right;\">\n",
       "      <th></th>\n",
       "      <th>accountAgeDays</th>\n",
       "      <th>numItems</th>\n",
       "      <th>localTime</th>\n",
       "      <th>paymentMethodAgeDays</th>\n",
       "      <th>label</th>\n",
       "      <th>paymentMethod_paypal</th>\n",
       "      <th>paymentMethod_storecredit</th>\n",
       "    </tr>\n",
       "  </thead>\n",
       "  <tbody>\n",
       "    <tr>\n",
       "      <th>0</th>\n",
       "      <td>29</td>\n",
       "      <td>1</td>\n",
       "      <td>4.745402</td>\n",
       "      <td>28.204861</td>\n",
       "      <td>0</td>\n",
       "      <td>1</td>\n",
       "      <td>0</td>\n",
       "    </tr>\n",
       "    <tr>\n",
       "      <th>1</th>\n",
       "      <td>725</td>\n",
       "      <td>1</td>\n",
       "      <td>4.742303</td>\n",
       "      <td>0.000000</td>\n",
       "      <td>0</td>\n",
       "      <td>0</td>\n",
       "      <td>1</td>\n",
       "    </tr>\n",
       "    <tr>\n",
       "      <th>2</th>\n",
       "      <td>845</td>\n",
       "      <td>1</td>\n",
       "      <td>4.921318</td>\n",
       "      <td>0.000000</td>\n",
       "      <td>0</td>\n",
       "      <td>0</td>\n",
       "      <td>0</td>\n",
       "    </tr>\n",
       "    <tr>\n",
       "      <th>3</th>\n",
       "      <td>503</td>\n",
       "      <td>1</td>\n",
       "      <td>4.886641</td>\n",
       "      <td>0.000000</td>\n",
       "      <td>0</td>\n",
       "      <td>0</td>\n",
       "      <td>0</td>\n",
       "    </tr>\n",
       "    <tr>\n",
       "      <th>4</th>\n",
       "      <td>2000</td>\n",
       "      <td>1</td>\n",
       "      <td>5.040929</td>\n",
       "      <td>0.000000</td>\n",
       "      <td>0</td>\n",
       "      <td>0</td>\n",
       "      <td>0</td>\n",
       "    </tr>\n",
       "  </tbody>\n",
       "</table>\n",
       "</div>"
      ],
      "text/plain": [
       "   accountAgeDays  numItems  localTime  paymentMethodAgeDays  label  \\\n",
       "0              29         1   4.745402             28.204861      0   \n",
       "1             725         1   4.742303              0.000000      0   \n",
       "2             845         1   4.921318              0.000000      0   \n",
       "3             503         1   4.886641              0.000000      0   \n",
       "4            2000         1   5.040929              0.000000      0   \n",
       "\n",
       "   paymentMethod_paypal  paymentMethod_storecredit  \n",
       "0                     1                          0  \n",
       "1                     0                          1  \n",
       "2                     0                          0  \n",
       "3                     0                          0  \n",
       "4                     0                          0  "
      ]
     },
     "execution_count": 8,
     "metadata": {},
     "output_type": "execute_result"
    }
   ],
   "source": [
    "print(f'Unique paymentMethod categories: {list(dataset.paymentMethod.unique())}')\n",
    "dataset = pd.get_dummies(dataset, prefix='paymentMethod', columns=['paymentMethod'], drop_first=True)\n",
    "dataset.head()"
   ]
  },
  {
   "cell_type": "markdown",
   "metadata": {},
   "source": [
    "Datan esikäsittely on nyt valmis. Seuraavaksi jatketaan jo opittuun malliin jakaen datasetti koulutus ja testidatoihin. Koulutuksen kohteena (*target*) `y` käytetään datasetin `label` sarakkeen tietoja ja syötedatoina (*input*) `x` kaikkia muita sarakkeita."
   ]
  },
  {
   "cell_type": "code",
   "execution_count": 9,
   "metadata": {},
   "outputs": [],
   "source": [
    "from sklearn.model_selection import train_test_split\n",
    "\n",
    "x, y = dataset.drop('label', axis=1), dataset.label\n",
    "x_train, x_test, y_train, y_test = train_test_split(x, y, test_size=1/3)"
   ]
  },
  {
   "cell_type": "markdown",
   "metadata": {},
   "source": [
    "Datasettien jakamisen jälkeen valitaan luokitteluun sopiva logistinen regressiomalli (*logistic regression*) lineaaristen mallien perheestä ja koulutetaan eli sovitetaan (*fit*) se dataan. Sen jälkeen muodostetaan ennuste testisetin syötedatoista ja verrataan ennusteita todellisiin tietoihin sekaannusmatriisilla. Sarakkeen `label` arvot on hyvä vielä kerrata: nolla tarkoittaa oikeaa ostotapahtumaa, yksi taas petosta."
   ]
  },
  {
   "cell_type": "code",
   "execution_count": 13,
   "metadata": {},
   "outputs": [
    {
     "name": "stdout",
     "output_type": "stream",
     "text": [
      "Tulokset määrissä:\n"
     ]
    },
    {
     "data": {
      "text/html": [
       "<div>\n",
       "<style scoped>\n",
       "    .dataframe tbody tr th:only-of-type {\n",
       "        vertical-align: middle;\n",
       "    }\n",
       "\n",
       "    .dataframe tbody tr th {\n",
       "        vertical-align: top;\n",
       "    }\n",
       "\n",
       "    .dataframe thead th {\n",
       "        text-align: right;\n",
       "    }\n",
       "</style>\n",
       "<table border=\"1\" class=\"dataframe\">\n",
       "  <thead>\n",
       "    <tr style=\"text-align: right;\">\n",
       "      <th></th>\n",
       "      <th>true_0</th>\n",
       "      <th>true_1</th>\n",
       "    </tr>\n",
       "  </thead>\n",
       "  <tbody>\n",
       "    <tr>\n",
       "      <th>model_0</th>\n",
       "      <td>12900</td>\n",
       "      <td>0</td>\n",
       "    </tr>\n",
       "    <tr>\n",
       "      <th>model_1</th>\n",
       "      <td>0</td>\n",
       "      <td>174</td>\n",
       "    </tr>\n",
       "  </tbody>\n",
       "</table>\n",
       "</div>"
      ],
      "text/plain": [
       "         true_0  true_1\n",
       "model_0   12900       0\n",
       "model_1       0     174"
      ]
     },
     "metadata": {},
     "output_type": "display_data"
    },
    {
     "name": "stdout",
     "output_type": "stream",
     "text": [
      "Tulokset prosenteissa:\n"
     ]
    },
    {
     "data": {
      "text/html": [
       "<div>\n",
       "<style scoped>\n",
       "    .dataframe tbody tr th:only-of-type {\n",
       "        vertical-align: middle;\n",
       "    }\n",
       "\n",
       "    .dataframe tbody tr th {\n",
       "        vertical-align: top;\n",
       "    }\n",
       "\n",
       "    .dataframe thead th {\n",
       "        text-align: right;\n",
       "    }\n",
       "</style>\n",
       "<table border=\"1\" class=\"dataframe\">\n",
       "  <thead>\n",
       "    <tr style=\"text-align: right;\">\n",
       "      <th></th>\n",
       "      <th>true_0</th>\n",
       "      <th>true_1</th>\n",
       "    </tr>\n",
       "  </thead>\n",
       "  <tbody>\n",
       "    <tr>\n",
       "      <th>model_0</th>\n",
       "      <td>98.669114</td>\n",
       "      <td>0.000000</td>\n",
       "    </tr>\n",
       "    <tr>\n",
       "      <th>model_1</th>\n",
       "      <td>0.000000</td>\n",
       "      <td>1.330886</td>\n",
       "    </tr>\n",
       "  </tbody>\n",
       "</table>\n",
       "</div>"
      ],
      "text/plain": [
       "            true_0    true_1\n",
       "model_0  98.669114  0.000000\n",
       "model_1   0.000000  1.330886"
      ]
     },
     "metadata": {},
     "output_type": "display_data"
    },
    {
     "name": "stdout",
     "output_type": "stream",
     "text": [
      "Mallin tarkkuus (ON+OP): 100.000%\n"
     ]
    }
   ],
   "source": [
    "from sklearn.linear_model import LogisticRegression\n",
    "from utils import train_utils\n",
    "\n",
    "model = LogisticRegression()\n",
    "model.fit(x_train, y_train)\n",
    "y_pred = model.predict(x_test)\n",
    "train_utils.visualize_results_acc_cm(y_test, y_pred)"
   ]
  },
  {
   "cell_type": "markdown",
   "metadata": {},
   "source": [
    "Kouluttamamme malli onnistui luokittelemaan ostotapahtumat niiden tekohetkellä sille syötetyn datasetin pohjalta täydellisesti. Huomionarvoista on kuitenkin, että tämä ei tarkoita sitä, että malli olisi täydellinen todellisessa käytössä - sitä pitäis kouluttaa uudelleen ja uudelleen aina uusien havaintojen myötä."
   ]
  },
  {
   "cell_type": "markdown",
   "metadata": {},
   "source": []
  }
 ],
 "metadata": {
  "kernelspec": {
   "display_name": "Python 3",
   "language": "python",
   "name": "python3"
  },
  "language_info": {
   "codemirror_mode": {
    "name": "ipython",
    "version": 3
   },
   "file_extension": ".py",
   "mimetype": "text/x-python",
   "name": "python",
   "nbconvert_exporter": "python",
   "pygments_lexer": "ipython3",
   "version": "3.6.6"
  },
  "toc": {
   "base_numbering": 1,
   "nav_menu": {},
   "number_sections": false,
   "sideBar": true,
   "skip_h1_title": false,
   "title_cell": "Sisällysluettelo",
   "title_sidebar": "Sisällysluettelo",
   "toc_cell": true,
   "toc_position": {
    "height": "1158px",
    "left": "278px",
    "top": "111.133px",
    "width": "338px"
   },
   "toc_section_display": true,
   "toc_window_display": false
  }
 },
 "nbformat": 4,
 "nbformat_minor": 2
}
