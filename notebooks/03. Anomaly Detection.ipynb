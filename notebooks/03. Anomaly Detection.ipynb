{
 "cells": [
  {
   "cell_type": "markdown",
   "metadata": {},
   "source": [
    "*Created by Petteri Nevavuori <<petteri.nevavuori@gmail.com>>*\n",
    "\n",
    "---\n",
    "\n",
    "**CHIO & FREEMAN: MACHINE LEARNING & SECURITY (2018)** <br>\n",
    "*<small>Otsikot kirjan mukaan, muutoin suomeksi.</small>*"
   ]
  },
  {
   "cell_type": "markdown",
   "metadata": {
    "toc": true
   },
   "source": [
    "<h1>Sisällysluettelo<span class=\"tocSkip\"></span></h1>\n",
    "<div class=\"toc\"><ul class=\"toc-item\"><li><span><a href=\"#Anomaly-Detection\" data-toc-modified-id=\"Anomaly-Detection-1\">Anomaly Detection</a></span><ul class=\"toc-item\"><li><span><a href=\"#When-to-Use-Anomaly-Detection-Versus-Supervised-Learning\" data-toc-modified-id=\"When-to-Use-Anomaly-Detection-Versus-Supervised-Learning-1.1\">When to Use Anomaly Detection Versus Supervised Learning</a></span></li><li><span><a href=\"#Intrusion-Detection-with-Heuristics\" data-toc-modified-id=\"Intrusion-Detection-with-Heuristics-1.2\">Intrusion Detection with Heuristics</a></span></li><li><span><a href=\"#Data-Driven-Methods\" data-toc-modified-id=\"Data-Driven-Methods-1.3\">Data-Driven Methods</a></span></li><li><span><a href=\"#Feature-Engineering-for-Anomaly-Detection\" data-toc-modified-id=\"Feature-Engineering-for-Anomaly-Detection-1.4\">Feature Engineering for Anomaly Detection</a></span><ul class=\"toc-item\"><li><span><a href=\"#Host-Intrusion-Detection\" data-toc-modified-id=\"Host-Intrusion-Detection-1.4.1\">Host Intrusion Detection</a></span></li><li><span><a href=\"#Network-Intrusion-Detection\" data-toc-modified-id=\"Network-Intrusion-Detection-1.4.2\">Network Intrusion Detection</a></span></li></ul></li></ul></li></ul></div>"
   ]
  },
  {
   "cell_type": "markdown",
   "metadata": {},
   "source": [
    "## Anomaly Detection\n",
    "\n",
    "Poikkeamien (*anomaly, outlier*) havainnoinnilla tarkoitetaan kyberturvallisuudessa odottamattomien murtojen ja tunkeutumisten havaitsemista IT-järjestelmissä. Tavallista on, että murron havaitsemisen hetkellä vahinko on tapahtunut jo päiviä aiemmin. Poikkeamien havainnointi ei rajoitu vain kyberturvaan, vaan sitä käytetään mm. teollisuudessa järjestelmä- tai laiterikkojen ja pankkisektorilla luottopetosten havaitsemiseen. Poikkeamat voidaan oppia havaitsemaan joko luokitellusti eli ohjatusti tai oppimimalla vain tavanomaisen datan piirteet ja merkitsemällä siitä poikkeavat havainnot poikkeamiksi (*novelty detection*).\n",
    "\n",
    "Poikkeamien havainnointi linkittyy vahvasti aikasarjojen (*time series*) mallinnukseen. Osakekurssidatan tavoin myös esimerkiksi Bash-komentotulkin komentoja voidaan käsitellä aikasarjamaisena (*time series*) datana, joskin ajallisen jakauman sijasta ollaan ennemmin tapahtumakeskeisen (*event-driven*) aikasarjadatan kanssa. Poikkeamalla tarkoitetaan tässä tapauksessa havaintoa, joka eroaa merkittävästi aiemmista tavanomaisista havainnoista (komennot ja komentojen sarjat)."
   ]
  },
  {
   "cell_type": "markdown",
   "metadata": {},
   "source": [
    "### When to Use Anomaly Detection Versus Supervised Learning\n",
    "\n",
    "Kuten ensimmäisessä kappaleessakin jo todettiin, valinta poikkeamien havainnointimenetelmän ja suoran ohjatun oppimisen keinoin koulutetun mallin välillä on tapauskohtaista. Merkittävimmässä roolissa on data, sillä ohjattu oppiminen vaatii riittävän määrän oikein luokiteltuja historiallisia havaintoja kouluttuakseen. Mikäli tällaista dataa ei ole saatavilla, on ryhmittelymenetelmien käyttö perusteltua, joskin niitä rajoittavat edellisen kappaleen esitellyt huomiot. Ylipäätään poikkeamien kanssa työskennellessä poikkeamien havainnointiin keskittyvät menetelmät toimivat silti hyvin, sillä poikkeamaksi luokiteltavat havainnot ovat juuri niitä - harvinaisia."
   ]
  },
  {
   "cell_type": "markdown",
   "metadata": {},
   "source": [
    "### Intrusion Detection with Heuristics\n",
    "\n",
    "Vielä nykypäivänäkin luotetaan manuaalisesti määritettyihin rajoihin, heuristiikkoihin ja tilastollisiin profiileihin poikkeavan käyttäytymisen havaitsemisessa. Esimerkki tästä on tietokantakyselyiden käyttäjäkohtainen määräraja-arvo, minkä ylittyessä käyttäjä merkitään poikkeamaksi. Tämänkaltaisten rajojen asettaminen vaatii kuitenkin usein tietoa jopa asioista, jota ei välttämättä ole saatavilla tai ihmisen saavutettavissa. Yksinkertainen raja-arvo on mahdollista korvata esimerkiksi liukuvan ikkunan keskiarvoon suhteutetulla raja-arvolla, mutta tässäkin tapauksessa kyse on yhteen piirteeseen sidotusta raja-arvosta. Tavallisempaa on, että poikkeama on tunnistettavissa monen piirteen yhteisvaikutuksesta. Tässä koneoppimismenetelmät tarjoavat soveliaan aputyökalun."
   ]
  },
  {
   "cell_type": "markdown",
   "metadata": {},
   "source": [
    "### Data-Driven Methods\n",
    "\n",
    "Optimaalisesti toimivalle poikkeamien havaintomenetelmälle voidaan asettaa joitain ehtoja. \n",
    "\n",
    "Ensimmäinen näistä on riittävän hyvä tarkkuus, jossa on mahdollisimman vähän väärin luokiteltuja havaintoja (*low false positives and negatives*). Vaikka ensiajattelemalta mielummin agressiivisesti uhiksi luokitteleva (*high false positives*) tuntuu varman päälle pelaamiselta, on jokaisella uhaksi luokitellulle havainnolle laskettava myös selvitystyön kautta muodostuva kustannus. Samoin jatkuva susivaaran huutaminen johtaa siihen, että toden tullen asioiden selvittämisestä vastaavien henkilöstön jäsentene kynnys tarttua toimeen kasvaa aivan turhaan.\n",
    "\n",
    "Toinen ehdoista on asetusten säätämisen, virittämisen ja ylläpidon helppous. Mikäli kyseessä on esimerkiksi raja-arvoilla toimiva havaintomenetelmä, on raja-arvoja päästävä säätämään riittävän helposti. Ylipätään menetelmän aloituskonfiguroinnin helppous ja ylläpidettävyys määrittävät havaintojärjestelmän käytettävyyttä vahvasti. Tämä on erityisen tärkeää esimerkiksi mallin alkaessa tuottaa odottamattomia tuloksia.\n",
    "\n",
    "Kolmas on mukautumiskyky (*adaptation*) ajan myötä muuttuviin datan trendeihin, joista kausivaihtelut (*seasonalities*) ovat yksi esimerkki. Tämä erityisen tärkeää menetelmille, jotka toimivat aikasarjadatan kanssa. IT-järjestelmien kohdalla vaikkapa käyttäjämäärät ovat hyvin erilaisia arkena ja viikonloppuina. Samoin tietyltä maantieteelliseltä alueelta tulevat verkkopyynnöt lisääntyvät ja pienentyvät aaltomaisesti päivän ja yön välillä. Kausivaihteluun mukautumattomuus johtaa helposti vääriin luokittelutuloksiin.\n",
    "\n",
    "Neljäs ehto on toimintakyvyn säilyminen eriluontoisten datasettien kanssa. Tällä tarkoitetaan erityisesti sitä, ettei malli toimi vain tiettyyn jakaumaan (esim. normaalijakauma) sovittuvan datan kanssa, vaan se kykenee tuottamaan luotettavia tuloksia myös muilla tavoin jakautuneiden datojen kanssa.\n",
    "\n",
    "Toiseksi viimeisenä eli viidentenä ehtona esitetään menetelmän laskennallinen tehokkuus, sillä uhkien tunnistaminen vaatii joissain tapauksissa jopa reaaliaikaista toimintaa. Tällöin koulutetun mallin on kyettävä ottamaan data vastaan ja tuotettava luokittelutulos nopeasti, jolloin laskennallisesti liian raskaat menetelmät jäävät näissä tilanteissa käyttökelvottomiksi.\n",
    "\n",
    "Viimeseksi ehdoksi asetetaan kyky päästä käsiksi luokittelutulosten perusteisiin. Raja-arvonmenetelmillä tämä ei ole ongelma, mutta vähänkään monimutkaisempien koneoppimismenetelmien kanssa yksiselitteisten perustelujen noutaminen kullekin luokittelutulokselle on jopa oma tutkimuksen kenttänsä. Rajoitetun tutkinta-ajan puitteissa menetelmän tarjoama selityskyky on arvokas tuki luokittelujen tarkastukseen."
   ]
  },
  {
   "cell_type": "markdown",
   "metadata": {},
   "source": [
    "### Feature Engineering for Anomaly Detection\n",
    "\n",
    "Koneoppimisessa datalla ja sen piirteillä on äärimmäisen suuri merkitys menetelmien suorituskyvyn kannalta. Joissain tapauksissa luokitteluun tarvittavat piirteet ovat sellaisinaan helposti saatavilla, kuten prosessorin kuormitus. Usein on kuitenkin niin, että piirteet on yhdisteltävä monista yksittäisistä piirteistä eri tavoin. Tätä kutsutaan piirteiden rakentamiseksi (*feature engineering*). Tässä aliluvussa keskitytään piirteiden rakentamiseen isäntäjärjestelmään murtautumisen (*host intrusion*), verkkomurtautumisen (*network intrusion*) ja web-sovellusten murtautumisen (*we application intrusion*) havaitsemisen näkökulmasta. Jokaisella näistä osa-alueista on omat erityishuomionsa, mutta piirteiden rakentaminen poikkeamien havaitsemiseksi ei missään tapauksessa rajoitu näihin kolmeen osa-alueeseen."
   ]
  },
  {
   "cell_type": "markdown",
   "metadata": {},
   "source": [
    "#### Host Intrusion Detection\n",
    "\n",
    "Isäntäjärjestelmällä tarkoitetaan vaikkapa palvelinta, kannettavaa tietokonetta tai sulautettua järjestelmää (*embedded system*). Isäntäjärjestelmän murtautumisen havaitsemista varten on tarpeen kehittää omat tapauskohtaiset mittarinsa ja määrittää kerättävät signaalit. Järjestelmä- ja verkkotaso on hyvä signaalien keruun lähtökohta ja keruuseen löytyy monia aputyökaluja. Tällöin keruun kohteena ovat järjestelmän tarjoamat signaalit ja tunnistamisen kohteena taas murron ilmaisimet (*indicators of compromise*). Kerättäviä signaaleja ovat esimerkiksi \n",
    "\n",
    " - käynnissä olevat prosessit, \n",
    " - käyttäjätilit, \n",
    " - järjestelmän ytimen ladatut moduulit (*kernel modules*), \n",
    " - DNS-haut, \n",
    " - avatut verkkoyhteydet, \n",
    " - järjestelmän ajastettujen toimintojen muutokset,\n",
    " - taustaprosessit,\n",
    " - käynnistyksen aikaiset käynnistetyt operaatiot,\n",
    " - käyttöjärjestelmän rekisteritietokantatiedot (.plist-tiedostot),\n",
    " - väliaikaistiedostot ja \n",
    " - selainlaajennokset.\n",
    " \n",
    "Eräs tällainen työkalu on SQL-syntaksilla käytettävä [osquery](https://osquery.io). Se tarjoaa mahdollisuuden muodostaa ajastettuja kyselyjä järjestelmän eri osista tulevan tiedon keräämiseksi. Seuraavassa esimerkissä lähdetään siitä oletuksesta, että järjestelmässä piilevä haittaohjelma vaikuttaa ja on täten havaittavissa järjestelmätason tapahtumissa. Työkalun asentamisen jälkeen sen käyttö tapahtuu komentoriviltä käynnistyskomennolla `osqueryi`.\n",
    "\n",
    "Esimerkiksi järjestelmän kymmenen käyttäjätilin nimien nouto tapahtuu seuraavalla komennolla."
   ]
  },
  {
   "cell_type": "code",
   "execution_count": 15,
   "metadata": {},
   "outputs": [
    {
     "name": "stdout",
     "output_type": "stream",
     "text": [
      "+----------------+\n",
      "| username       |\n",
      "+----------------+\n",
      "| _apt           |\n",
      "| avahi          |\n",
      "| avahi-autoipd  |\n",
      "| backup         |\n",
      "| bin            |\n",
      "| colord         |\n",
      "| cups-pk-helper |\n",
      "| daemon         |\n",
      "| dnsmasq        |\n",
      "| games          |\n",
      "+----------------+\n"
     ]
    }
   ],
   "source": [
    "%%bash\n",
    "osqueryi\n",
    "SELECT username FROM users ORDER BY username ASC LIMIT 10;"
   ]
  },
  {
   "cell_type": "markdown",
   "metadata": {},
   "source": [
    "Kolmen eniten muistia vievän prosessin kutsu tapahtuu seuraavasti."
   ]
  },
  {
   "cell_type": "code",
   "execution_count": 14,
   "metadata": {},
   "outputs": [
    {
     "name": "stdout",
     "output_type": "stream",
     "text": [
      "+------+----------+---------------+\n",
      "| pid  | name     | resident_size |\n",
      "+------+----------+---------------+\n",
      "| 2407 | firefox  | 976928000     |\n",
      "| 1039 | sqlservr | 816044000     |\n",
      "| 3562 | code     | 681992000     |\n",
      "+------+----------+---------------+\n"
     ]
    }
   ],
   "source": [
    "%%bash\n",
    "osqueryi\n",
    "SELECT pid, name, resident_size FROM processes ORDER BY resident_size DESC LIMIT 3;"
   ]
  },
  {
   "cell_type": "markdown",
   "metadata": {},
   "source": [
    "Tämä työkalu tarjoaa ennenkaikkea kyvyn tehdä kyselyjä ajallisesti relevanttien muutosten havaitsemiseen. Kuten `osquery`n etusivullakin kerrotaan, yleinen haittaohjelmien toimintatapa on poistaa itsensä tiedostojärjestelmästä käynnistämisen jälkeen. Tällaisten prosessien haku onnistuu seuraavalla komennolla. Tämän notebookin kirjoitushetkellä tällaisia prosesseja ei löytynyt."
   ]
  },
  {
   "cell_type": "code",
   "execution_count": 19,
   "metadata": {},
   "outputs": [],
   "source": [
    "%%bash\n",
    "osqueryi\n",
    "SELECT * FROM processes WHERE on_disk = 0;"
   ]
  },
  {
   "cell_type": "markdown",
   "metadata": {},
   "source": [
    "Työkalu on myös skriptattavissa siten, että kyselyjä voidaan automatisoida ja kyselyjen tulokset tallettaa tiedostoon. Samoin työkalu tarjoaa valmiita ominaisuuksia monien järjestelmätason tapahtumien automaattiseen seurantaan. Tärkeää on kuitenkin ymmärtää tämänkin työkalun rajoitukset. Se on suunniteltu toimimaan vain ja ainoastaan valvotussa ja luotetussa järjestelmässä. Siksi asiantunteva haitallinen toimija voi pyrkiä vaikuttamaan työkalun palauttamiin tietoihin ja näin tehdä jäljistään entistä vaikeammin havaittavia. Muitakin työkaluvaihtoehtoja löytyy."
   ]
  },
  {
   "cell_type": "markdown",
   "metadata": {},
   "source": [
    "#### Network Intrusion Detection\n",
    "\n",
    "IT-järjestelmissä ulkoinen vaikuttaminen tapahtuu lähes yksinomaan verkon ylitse. Muun muassa bottiverkkojen ja kehittyneempien pysyväisuhkien tapauksissa haitallisella toimijalla on pääsy kohdejärjestelmiin verkon yli siten, että kohdejärjestelmät saadaan toimimaan vaikuttajan tahdon mukaisesti. Tämän vuoksi verkon yli tapahtuvien murtojen havainnoinnilla on suuri ennaltaehkäisevä tai informoiva merkitys. \n",
    "\n",
    "Työkalujen kirjo tähän on laaja ja kehittynyt. Työkaluja löytyy aina yksinkertaisemmista [protokollatason](http://www.tcpdump.org) työkaluista aina [kehittyneempiin](https://www.bro.org) työkaluihin. Työkalujen perustana on isäntäjärjestelmän ja ulkomaailman välise verkkoliikenteen tarkkailu. Vihamielinen verkkoliikenne tavataan tunnistaa esimerkiksi tunnetun verkkoliikennejäljen (*signature*) tai poikkeamien havainnoinnin avulla, joista jälkimmäinen on tässä osiossa huomion keskipisteenä. [Snort](https://www.snort.org), esimerkiksi, on tunnettu avoimen lähdekoodin [tunkeilijan havaintojärjestelmä](https://fi.wikipedia.org/wiki/Tunkeilijan_havaitsemisj%C3%A4rjestelm%C3%A4) (*intrusion detection system, IDS*), joka tutkii verkkoliikennettä ja paketteja reaaliaikaisesti poikkeamien havaitsemiseksi.\n",
    "\n",
    "Verkkoliikenteen poikkeamien havainnoinnissa verkkoliikenteestä tavataan erotella sen metadata ja sisältö. Metadataan keskittyvässä tunnistamisessa tarkastellaan verkkoliikenteen pakettien tilatietoja (*stateful packet inspection, SPI*) koskematta itse sisältöön. Näin paketteja voidaan yhdistää toisiin, jo havaittuihin paketteihin. Tällöin tavanomaisista ja ennustettavista paketetista eroavat paketit on mahdollista tunnistaa ja luokitella poikkeamiksi. Näin voidaan havaita mm. palvelunestohyökkäykset (*denial of service, DoS*) IP- ja porttitason laajan tilannekuvan vuoksi. Sovellustasolle asti ei näillä keinoin kuitenkaan ylletä.\n",
    "\n",
    "Pakettien syvätarkkailu (*deep packet inspection, DPI*) ottaa pakettien ylä- ja alatunnisteiden lisäksi huomioon myös pakettien sisällön. Sisältötietoa analysoimalla on mahdollista päästä käsiksi niihin signaaleihin, joiden avulla voidaan tunnistaa mm. roskaposti, haittaohjelmat tai hienovaraisetki poikkeamat. Pakettien syvätarkkailu on kuitenkin laskennallisesti raskaampaa sisällön salausten purkamisen vuoksi, minkä takia sitä ei voida kovin helposti soveltaa reaaliaikaiseen tarkkailuun. Syvätarkkailusovellukset ([Bro](https://www.bro.org)) tarkkailevat verkkoliikenteen tapahtumia eli paketteja ja toimivat niille asetettujen ohjeiden (*policy*) mukaisesti. Näin mahdollista esimerkiksi tunnistaa SQL-injektiohyökkäykset, jossa tietokantakyselyyn pyritään syöttämään haitallisia merkkejä. Ohjeet ovat kuitenkin melko vahvasti käyttökohderiippuvaisia. Koska pakettien syvätarkkailu vaatii kyvyn lukea pakettien sisältöä, on sitä käytettäessä myös salaukset ainakin hetkellisesti purettava - tämä muodostaa oman riskinsä menetelmän käytölle."
   ]
  },
  {
   "cell_type": "code",
   "execution_count": null,
   "metadata": {},
   "outputs": [],
   "source": []
  }
 ],
 "metadata": {
  "kernelspec": {
   "display_name": "Python 3",
   "language": "python",
   "name": "python3"
  },
  "language_info": {
   "codemirror_mode": {
    "name": "ipython",
    "version": 3
   },
   "file_extension": ".py",
   "mimetype": "text/x-python",
   "name": "python",
   "nbconvert_exporter": "python",
   "pygments_lexer": "ipython3",
   "version": "3.6.6"
  },
  "toc": {
   "base_numbering": 1,
   "nav_menu": {},
   "number_sections": false,
   "sideBar": true,
   "skip_h1_title": false,
   "title_cell": "Sisällysluettelo",
   "title_sidebar": "Sisällysluettelo",
   "toc_cell": true,
   "toc_position": {
    "height": "1158px",
    "left": "278px",
    "top": "111.133px",
    "width": "338px"
   },
   "toc_section_display": true,
   "toc_window_display": false
  }
 },
 "nbformat": 4,
 "nbformat_minor": 2
}
